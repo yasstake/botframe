{
 "cells": [
  {
   "cell_type": "code",
   "execution_count": null,
   "metadata": {},
   "outputs": [],
   "source": []
  },
  {
   "cell_type": "code",
   "execution_count": 1,
   "metadata": {},
   "outputs": [],
   "source": [
    "import numpy as np\n",
    "import pandas\n",
    "import pandas as pd"
   ]
  },
  {
   "cell_type": "code",
   "execution_count": 2,
   "metadata": {},
   "outputs": [],
   "source": [
    "import rbot\n"
   ]
  },
  {
   "cell_type": "code",
   "execution_count": 3,
   "metadata": {},
   "outputs": [],
   "source": [
    "ftx = rbot.FtxMarket(\"BTC-PERP\")"
   ]
  },
  {
   "cell_type": "code",
   "execution_count": 4,
   "metadata": {},
   "outputs": [],
   "source": [
    "session = rbot._DummySession()"
   ]
  },
  {
   "cell_type": "code",
   "execution_count": 5,
   "metadata": {},
   "outputs": [
    {
     "data": {
      "text/plain": [
       "0.0"
      ]
     },
     "execution_count": 5,
     "metadata": {},
     "output_type": "execute_result"
    }
   ],
   "source": [
    "session.center_price"
   ]
  },
  {
   "cell_type": "code",
   "execution_count": 6,
   "metadata": {},
   "outputs": [
    {
     "data": {
      "text/plain": [
       "0"
      ]
     },
     "execution_count": 6,
     "metadata": {},
     "output_type": "execute_result"
    }
   ],
   "source": [
    "session.current_timestamp"
   ]
  },
  {
   "cell_type": "code",
   "execution_count": 7,
   "metadata": {},
   "outputs": [],
   "source": [
    "session.run()"
   ]
  },
  {
   "cell_type": "code",
   "execution_count": 8,
   "metadata": {},
   "outputs": [
    {
     "data": {
      "text/plain": [
       "3"
      ]
     },
     "execution_count": 8,
     "metadata": {},
     "output_type": "execute_result"
    }
   ],
   "source": [
    "session.current_timestamp"
   ]
  },
  {
   "cell_type": "code",
   "execution_count": 9,
   "metadata": {},
   "outputs": [
    {
     "data": {
      "text/plain": [
       "0.0"
      ]
     },
     "execution_count": 9,
     "metadata": {},
     "output_type": "execute_result"
    }
   ],
   "source": [
    "session.long_order_size"
   ]
  },
  {
   "cell_type": "code",
   "execution_count": 10,
   "metadata": {},
   "outputs": [
    {
     "data": {
      "text/plain": [
       "OrderStatus.InOrder"
      ]
     },
     "execution_count": 10,
     "metadata": {},
     "output_type": "execute_result"
    }
   ],
   "source": [
    "session.make_order(1, rbot.OrderSide.Buy, 10.0, 10.0, 10, \"\")"
   ]
  },
  {
   "cell_type": "code",
   "execution_count": 11,
   "metadata": {},
   "outputs": [
    {
     "data": {
      "text/plain": [
       "{order_index:0, create_time:1, order_id:0000-0001, order_side:Buy, post_only:true, valid_until:10000003, price:10, size:10, message:, remain_size10}"
      ]
     },
     "execution_count": 11,
     "metadata": {},
     "output_type": "execute_result"
    }
   ],
   "source": [
    "session.long_orders[0]"
   ]
  },
  {
   "cell_type": "code",
   "execution_count": 12,
   "metadata": {},
   "outputs": [
    {
     "data": {
      "text/plain": [
       "10.0"
      ]
     },
     "execution_count": 12,
     "metadata": {},
     "output_type": "execute_result"
    }
   ],
   "source": [
    "session.long_order_size"
   ]
  },
  {
   "cell_type": "code",
   "execution_count": 13,
   "metadata": {},
   "outputs": [],
   "source": [
    "class Market:\n",
    "    MARKET = {}\n",
    "    DUMMY_MODE = True\n",
    "\n",
    "    @classmethod\n",
    "    def dummy_mode(cls, dummy=True):\n",
    "        cls.DUMMY_MODE = dummy\n",
    "\n",
    "    @classmethod\n",
    "    def open(cls, exchange: str, market):\n",
    "        exchange = exchange.upper()\n",
    "        if exchange == \"FTX\":\n",
    "            m = rbot.FtxMarket(market, cls.DUMMY_MODE)\n",
    "            cls.MARKET[exchange.upper() + \"/\" + market.upper()] = m\n",
    "            return m\n",
    "        \n",
    "\n",
    "    @classmethod\n",
    "    def download(cls, ndays):\n",
    "        for m in cls.MARKET:\n",
    "            cls.MARKET[m].download(ndays)\n",
    "    \n",
    "    @classmethod\n",
    "    def get(cls, exchange, market):\n",
    "        return cls.MARKET[exchange.upper() + \"/\" + market.upper()]\n",
    "            "
   ]
  },
  {
   "cell_type": "code",
   "execution_count": 14,
   "metadata": {},
   "outputs": [
    {
     "name": "stdout",
     "output_type": "stream",
     "text": [
      "2022-11-09T12:43:36.383Z DEBUG [rbot::db::df] Select from 1970-01-01T00:00:00.000000 -> 1970-01-01T00:00:00.000000\n",
      "2022-11-09T12:43:36.383Z DEBUG [rbot::db::df] preserve select df\n",
      "2022-11-09T12:43:36.384Z DEBUG [rbot::exchange::ftx] Diff donwload for 1 days\n",
      "2022-11-09T12:43:37.770Z DEBUG [rbot::db::sqlite] 2022-11-08T12:43:36.502722- gap1667911416502722\n",
      "2022-11-09T12:43:37.774Z DEBUG [rbot::db::sqlite] after db \"2022-11-09T12:26:03.803126\"-\"2022-11-09T12:43:36.384891\"\n",
      "2022-11-09T12:43:37.774Z DEBUG [rbot::exchange::ftx] [TimeChunk { start: 1667996763803126, end: 1667997816384891 }]\n",
      "2022-11-09T12:43:37.774Z DEBUG [rbot::exchange::ftx::rest] download trade call back start_time 2022-11-09T12:26:03.803126 -> end_time 2022-11-09T12:43:36.384891\n",
      "2022-11-09T12:43:37.774Z DEBUG [rbot::exchange::ftx::rest] download trade to: 2022-11-09T12:26:03.803126-2022-11-09T12:43:36.384891(1667997816384891)\n",
      "2022-11-09T12:43:37.774Z DEBUG [rbot::exchange::ftx::rest] https://ftx.com/api/markets/BTC-PERP/trades?start_time=1667996763&end_time=1667997817 / 2022-11-09T12:26:03.000000 -> 2022-11-09T12:43:37.000000\n",
      "2022-11-09T12:43:37.775Z DEBUG [reqwest::connect] starting new connection: https://ftx.com/\n",
      "2022-11-09T12:43:38.239Z DEBUG [rbot::exchange::ftx::rest] download time from 1667997423657491 2022-11-09T12:37:03.657491 / to 1667997816740105 2022-11-09T12:43:36.740105\n",
      "2022-11-09T12:43:38.239Z DEBUG [rbot::exchange::ftx::rest] 5000 trades / 465604 [us]\n",
      "2022-11-09T12:43:38.241Z DEBUG [rbot::exchange::ftx::rest] download trade to: 2022-11-09T12:26:03.803126-2022-11-09T12:37:03.657491(1667997423657491)\n",
      "2022-11-09T12:43:38.241Z DEBUG [rbot::exchange::ftx::rest] https://ftx.com/api/markets/BTC-PERP/trades?start_time=1667996763&end_time=1667997424 / 2022-11-09T12:26:03.000000 -> 2022-11-09T12:37:04.000000\n",
      "2022-11-09T12:43:38.241Z DEBUG [reqwest::connect] starting new connection: https://ftx.com/\n",
      "2022-11-09T12:43:38.608Z DEBUG [rbot::exchange::ftx::rest] download time from 1667997015159268 2022-11-09T12:30:15.159268 / to 1667997423992377 2022-11-09T12:37:03.992377\n",
      "2022-11-09T12:43:38.608Z DEBUG [rbot::exchange::ftx::rest] 5000 trades / 367739 [us]\n",
      "2022-11-09T12:43:38.610Z DEBUG [rbot::exchange::ftx::rest] download trade to: 2022-11-09T12:26:03.803126-2022-11-09T12:30:15.159268(1667997015159268)\n",
      "2022-11-09T12:43:38.610Z DEBUG [rbot::exchange::ftx::rest] https://ftx.com/api/markets/BTC-PERP/trades?start_time=1667996763&end_time=1667997016 / 2022-11-09T12:26:03.000000 -> 2022-11-09T12:30:16.000000\n",
      "2022-11-09T12:43:38.610Z DEBUG [reqwest::connect] starting new connection: https://ftx.com/\n",
      "2022-11-09T12:43:38.927Z DEBUG [rbot::exchange::ftx::rest] download time from 1667996763313826 2022-11-09T12:26:03.313826 / to 1667997015349012 2022-11-09T12:30:15.349012\n",
      "2022-11-09T12:43:38.927Z DEBUG [rbot::exchange::ftx::rest] 3440 trades / 317276 [us]\n",
      "2022-11-09T12:44:42.491Z DEBUG [rbot::db::sqlite] 2022-09-04T09:51:42.211313- gap1662285102211313\n",
      "2022-11-09T12:44:42.491Z DEBUG [rbot::db::sqlite] 2022-10-16T22:12:04.251999- gap135514897\n"
     ]
    },
    {
     "data": {
      "text/html": [
       "\n",
       "                <p><b>path =</b> \"/Users/takeoyasukawa/Library/Application Support/net.takibi.rbot/DB/FTX/BTC-PERP.db\"</p>                \n",
       "                <p><b>records=</b> 29173460</p>\n",
       "                <table>\n",
       "                <caption>Trade Database info table</caption>\n",
       "                <tr><th>start</th><th>end</th></tr>\n",
       "                <tr><td>1662285100853933</td><td>1667997816740105</td></tr>\n",
       "                <tr><td>\"2022-09-04T09:51:40.853933\"</td><td>\"2022-11-09T12:43:36.740105\"</td></tr>\n",
       "                </table>                \n",
       "                <table><caption>Data Ga</caption><tr><th>start</th><th>end</th><th>days ago</th></tr><tr><td>\"2022-10-16T22:12:04.251999\"</td><td>\"2022-10-16T22:14:19.766896\"</td><td>23</td></tr></table>"
      ],
      "text/plain": [
       "<rbot.FtxMarket at 0x10e0bfc40>"
      ]
     },
     "execution_count": 14,
     "metadata": {},
     "output_type": "execute_result"
    }
   ],
   "source": [
    "rbot.init_log()\n",
    "Market.dummy_mode()\n",
    "Market.open(\"FTX\", \"BTC-PERP\")\n",
    "Market.download(1)\n",
    "Market.get(\"FTX\", \"BTC-PERP\")"
   ]
  },
  {
   "cell_type": "code",
   "execution_count": 15,
   "metadata": {},
   "outputs": [],
   "source": [
    "ftx = Market.get(\"FTX\", \"BTC-PERP\")"
   ]
  },
  {
   "cell_type": "code",
   "execution_count": 16,
   "metadata": {},
   "outputs": [
    {
     "data": {
      "text/plain": [
       "'{\"start\": 2022-09-04T09:51:40.853933, \"end\": 2022-11-09T12:43:36.740105, \"count\": 29173460}'"
      ]
     },
     "execution_count": 16,
     "metadata": {},
     "output_type": "execute_result"
    }
   ],
   "source": [
    "ftx.info()"
   ]
  },
  {
   "cell_type": "code",
   "execution_count": 17,
   "metadata": {
    "pycharm": {
     "name": "#%%\n"
    }
   },
   "outputs": [],
   "source": [
    "class Session:\n",
    "    def __init__(self, market, agent):\n",
    "        self.session = rbot._DummySession()\n",
    "        self.market = market\n",
    "        self.agent = agent\n",
    "\n",
    "        if hasattr(self.agent, 'clock_interval'):\n",
    "            self.clock_interval = self.agent.clock_interval()\n",
    "        else:\n",
    "            print(\"Agent class has no clock_interval() sttings, use default 60[sec]\");            \n",
    "            self.clock_interval = 60\n",
    "\n",
    "        \n",
    "    def __getattr__(self, func):\n",
    "        return getattr(self.session, func)\n",
    "\n",
    "                                       \n",
    "    def want_on_tick(self):\n",
    "        return hasattr(self.agent, 'on_tick')\n",
    "\n",
    "    def want_on_clock(self):\n",
    "        return hasattr(self.agent, 'on_clock')\n",
    "    \n",
    "    def want_on_update(self):\n",
    "        return hasattr(self.agent, 'on_update')\n",
    "    \n",
    "    def make_orders(self, orders):\n",
    "        for order in orders:\n",
    "            self.make_order(order)\n",
    "    \n",
    "    def make_order(self, order):\n",
    "        self.session.make_order(order)\n",
    "    \n",
    "    def on_tick(self, time, price, side, size):\n",
    "        return self.agent.on_tick(self, time, price, side, size)\n",
    "    \n",
    "    def on_clock(self):\n",
    "        return self.agent.on_clock(self, time)\n",
    "        \n",
    "    def on_update(self, time, order_result):\n",
    "        return self.agent.on_update(self, time, order_result)\n",
    "        \n",
    "    def ohlcvv(self, time_window, num_of_bars, exchange_name=None, market_name=None):\n",
    "        if market_name == None:\n",
    "            market = self.market\n",
    "        else:\n",
    "            market = Market.get(exchange_name, market_name)\n",
    "\n",
    "        now = self.session.current_timestamp\n",
    "        return market.ohlcvv(now - time_window * num_of_bars * 1_000_000, now, time_window)\n",
    "\n",
    "        "
   ]
  },
  {
   "cell_type": "code",
   "execution_count": 18,
   "metadata": {},
   "outputs": [],
   "source": [
    "class Agent:\n",
    "    def clock_interval(self):\n",
    "        return 60    # Sec\n",
    "    \n",
    "    def on_tick(self, session: Session, time, price, side, size):\n",
    "        print(\"tick\", session.current_timestamp, time, price, side, size)"
   ]
  },
  {
   "cell_type": "code",
   "execution_count": 19,
   "metadata": {},
   "outputs": [],
   "source": [
    "s = Session(ftx, Agent())"
   ]
  },
  {
   "cell_type": "code",
   "execution_count": 20,
   "metadata": {},
   "outputs": [
    {
     "data": {
      "text/plain": [
       "True"
      ]
     },
     "execution_count": 20,
     "metadata": {},
     "output_type": "execute_result"
    }
   ],
   "source": [
    "s.want_on_tick()"
   ]
  },
  {
   "cell_type": "code",
   "execution_count": 21,
   "metadata": {},
   "outputs": [
    {
     "name": "stdout",
     "output_type": "stream",
     "text": [
      "tick 0 1 1 buy 10.0\n"
     ]
    }
   ],
   "source": [
    "s.on_tick(1, 1, \"buy\", 10.0)"
   ]
  },
  {
   "cell_type": "code",
   "execution_count": null,
   "metadata": {},
   "outputs": [],
   "source": []
  },
  {
   "cell_type": "code",
   "execution_count": 22,
   "metadata": {
    "pycharm": {
     "name": "#%%\n"
    }
   },
   "outputs": [
    {
     "name": "stdout",
     "output_type": "stream",
     "text": [
      "2022-11-09T12:44:54.676Z DEBUG [rbot::db::sqlite] cache update all 1969-12-31T23:57:00.000000 -> 1970-01-01T00:00:00.000000\n",
      "2022-11-09T12:44:54.676Z DEBUG [rbot::db::sqlite] create iter 0 microsec\n",
      "2022-11-09T12:45:19.434Z DEBUG [rbot::db::df] Select from 1969-12-31T23:57:00.000000 -> 1970-01-01T00:00:00.000000\n",
      "2022-11-09T12:45:19.819Z DEBUG [rbot::db::df] ohlc \"1969-12-31T23:57:00.000000\" -> \"1970-01-01T00:00:00.000000\"\n",
      "2022-11-09T12:45:19.819Z DEBUG [rbot::db::df] Select from 1969-12-31T23:57:00.000000 -> 1970-01-01T00:00:00.000000\n"
     ]
    }
   ],
   "source": [
    "ohlcv = s.ohlcvv(60, 3)"
   ]
  },
  {
   "cell_type": "code",
   "execution_count": 28,
   "metadata": {
    "pycharm": {
     "name": "#%%\n"
    }
   },
   "outputs": [
    {
     "name": "stdout",
     "output_type": "stream",
     "text": [
      "2022-11-09T12:47:19.954Z DEBUG [rbot::db::sqlite] create iter 1 microsec\n",
      "2022-11-09T12:47:19.955Z DEBUG [rbot::db::sqlite] load data AFTER cache df1=(29173460, 5) df2=(2, 5)\n",
      "2022-11-09T12:47:19.955Z DEBUG [rbot::db::df] Select from 1970-01-01T00:00:00.000000 -> 2022-11-09T12:43:36.740105\n",
      "2022-11-09T12:47:20.107Z DEBUG [rbot::db::sqlite] cache update diff after 2022-11-09T12:37:00.000000 -> 2022-11-09T12:47:00.000000\n",
      "2022-11-09T12:47:20.107Z DEBUG [rbot::db::df] Select from 1970-01-01T00:00:00.000000 -> 2022-11-09T12:37:00.000000\n",
      "2022-11-09T12:47:20.107Z DEBUG [rbot::db::df] Select from 2022-11-09T12:37:00.000000 -> 2022-11-09T12:47:00.000000\n",
      "2022-11-09T12:47:20.203Z DEBUG [rbot::db::df] Select from 1970-01-01T00:00:00.000000 -> 2022-11-09T12:37:00.000000\n",
      "2022-11-09T12:47:20.204Z DEBUG [rbot::db::df] Select from 2022-11-09T12:37:00.000000 -> 2022-11-09T12:47:19.931429\n"
     ]
    }
   ],
   "source": [
    "ohlcv2 = Market.get(\"FTX\", \"BTC-PERP\").ohlcvv(rbot.NOW()- 1_000_000*60*10, rbot.NOW(), 10)"
   ]
  },
  {
   "cell_type": "code",
   "execution_count": 26,
   "metadata": {
    "pycharm": {
     "name": "#%%\n"
    }
   },
   "outputs": [
    {
     "name": "stdout",
     "output_type": "stream",
     "text": [
      "2022-11-09T12:46:54.471Z DEBUG [rbot::db::sqlite] create iter 8 microsec\n",
      "2022-11-09T12:46:54.472Z DEBUG [rbot::db::sqlite] load data before cache df1=(0, 5) df2=(29173460, 5)\n",
      "2022-11-09T12:46:54.479Z DEBUG [rbot::db::df] Select from 1970-01-01T00:00:00.000000 -> 2022-09-04T09:51:40.853933\n",
      "2022-11-09T12:46:54.479Z DEBUG [rbot::db::sqlite] cache update diff before 1969-12-31T23:50:00.000000 -> 2022-09-04T09:51:00.000000\n",
      "2022-11-09T12:46:54.479Z DEBUG [rbot::db::df] Select from 1969-12-31T23:50:00.000000 -> 2022-09-04T09:51:00.000000\n",
      "2022-11-09T12:46:54.620Z DEBUG [rbot::db::df] Select from 2022-09-04T09:51:00.000000 -> 1970-01-01T00:00:00.000000\n",
      "2022-11-09T12:46:54.621Z DEBUG [rbot::db::df] Select from 1970-01-01T00:00:00.000000 -> 2022-09-04T09:51:00.000000\n",
      "2022-11-09T12:46:54.621Z DEBUG [rbot::db::df] Select from 1969-12-31T23:50:00.000000 -> 1970-01-01T00:00:00.000001\n"
     ]
    }
   ],
   "source": [
    "ohlcv2 = Market.get(\"FTX\", \"BTC-PERP\").ohlcvv(- 1_000_000*60*10, 1, 10)\n"
   ]
  },
  {
   "cell_type": "code",
   "execution_count": 29,
   "metadata": {
    "pycharm": {
     "name": "#%%\n"
    }
   },
   "outputs": [
    {
     "data": {
      "text/html": [
       "<div>\n",
       "<style scoped>\n",
       "    .dataframe tbody tr th:only-of-type {\n",
       "        vertical-align: middle;\n",
       "    }\n",
       "\n",
       "    .dataframe tbody tr th {\n",
       "        vertical-align: top;\n",
       "    }\n",
       "\n",
       "    .dataframe thead th {\n",
       "        text-align: right;\n",
       "    }\n",
       "</style>\n",
       "<table border=\"1\" class=\"dataframe\">\n",
       "  <thead>\n",
       "    <tr style=\"text-align: right;\">\n",
       "      <th></th>\n",
       "      <th>order_side</th>\n",
       "      <th>open</th>\n",
       "      <th>high</th>\n",
       "      <th>low</th>\n",
       "      <th>close</th>\n",
       "      <th>vol</th>\n",
       "      <th>count</th>\n",
       "    </tr>\n",
       "    <tr>\n",
       "      <th>timestamp</th>\n",
       "      <th></th>\n",
       "      <th></th>\n",
       "      <th></th>\n",
       "      <th></th>\n",
       "      <th></th>\n",
       "      <th></th>\n",
       "      <th></th>\n",
       "    </tr>\n",
       "  </thead>\n",
       "  <tbody>\n",
       "    <tr>\n",
       "      <th>2022-11-09 12:37:00+00:00</th>\n",
       "      <td>Buy</td>\n",
       "      <td>18130.0</td>\n",
       "      <td>18141.0</td>\n",
       "      <td>18117.0</td>\n",
       "      <td>18121.0</td>\n",
       "      <td>11.0998</td>\n",
       "      <td>51.0</td>\n",
       "    </tr>\n",
       "    <tr>\n",
       "      <th>2022-11-09 12:37:00+00:00</th>\n",
       "      <td>Sell</td>\n",
       "      <td>18136.0</td>\n",
       "      <td>18140.0</td>\n",
       "      <td>18117.0</td>\n",
       "      <td>18117.0</td>\n",
       "      <td>19.5994</td>\n",
       "      <td>60.0</td>\n",
       "    </tr>\n",
       "    <tr>\n",
       "      <th>2022-11-09 12:37:10+00:00</th>\n",
       "      <td>Buy</td>\n",
       "      <td>18125.0</td>\n",
       "      <td>18128.0</td>\n",
       "      <td>18120.0</td>\n",
       "      <td>18128.0</td>\n",
       "      <td>2.2613</td>\n",
       "      <td>32.0</td>\n",
       "    </tr>\n",
       "    <tr>\n",
       "      <th>2022-11-09 12:37:10+00:00</th>\n",
       "      <td>Sell</td>\n",
       "      <td>18126.0</td>\n",
       "      <td>18126.0</td>\n",
       "      <td>18118.0</td>\n",
       "      <td>18126.0</td>\n",
       "      <td>8.2731</td>\n",
       "      <td>31.0</td>\n",
       "    </tr>\n",
       "    <tr>\n",
       "      <th>2022-11-09 12:37:20+00:00</th>\n",
       "      <td>Buy</td>\n",
       "      <td>18132.0</td>\n",
       "      <td>18151.0</td>\n",
       "      <td>18130.0</td>\n",
       "      <td>18149.0</td>\n",
       "      <td>13.4190</td>\n",
       "      <td>33.0</td>\n",
       "    </tr>\n",
       "    <tr>\n",
       "      <th>...</th>\n",
       "      <td>...</td>\n",
       "      <td>...</td>\n",
       "      <td>...</td>\n",
       "      <td>...</td>\n",
       "      <td>...</td>\n",
       "      <td>...</td>\n",
       "      <td>...</td>\n",
       "    </tr>\n",
       "    <tr>\n",
       "      <th>2022-11-09 12:43:10+00:00</th>\n",
       "      <td>Sell</td>\n",
       "      <td>18206.0</td>\n",
       "      <td>18216.0</td>\n",
       "      <td>18192.0</td>\n",
       "      <td>18209.0</td>\n",
       "      <td>15.9797</td>\n",
       "      <td>71.0</td>\n",
       "    </tr>\n",
       "    <tr>\n",
       "      <th>2022-11-09 12:43:20+00:00</th>\n",
       "      <td>Buy</td>\n",
       "      <td>18213.0</td>\n",
       "      <td>18222.0</td>\n",
       "      <td>18213.0</td>\n",
       "      <td>18216.0</td>\n",
       "      <td>10.8137</td>\n",
       "      <td>48.0</td>\n",
       "    </tr>\n",
       "    <tr>\n",
       "      <th>2022-11-09 12:43:20+00:00</th>\n",
       "      <td>Sell</td>\n",
       "      <td>18214.0</td>\n",
       "      <td>18222.0</td>\n",
       "      <td>18214.0</td>\n",
       "      <td>18216.0</td>\n",
       "      <td>5.5584</td>\n",
       "      <td>21.0</td>\n",
       "    </tr>\n",
       "    <tr>\n",
       "      <th>2022-11-09 12:43:30+00:00</th>\n",
       "      <td>Buy</td>\n",
       "      <td>18217.0</td>\n",
       "      <td>18226.0</td>\n",
       "      <td>18217.0</td>\n",
       "      <td>18224.0</td>\n",
       "      <td>4.0441</td>\n",
       "      <td>42.0</td>\n",
       "    </tr>\n",
       "    <tr>\n",
       "      <th>2022-11-09 12:43:30+00:00</th>\n",
       "      <td>Sell</td>\n",
       "      <td>18216.0</td>\n",
       "      <td>18226.0</td>\n",
       "      <td>18216.0</td>\n",
       "      <td>18223.0</td>\n",
       "      <td>9.3071</td>\n",
       "      <td>29.0</td>\n",
       "    </tr>\n",
       "  </tbody>\n",
       "</table>\n",
       "<p>80 rows × 7 columns</p>\n",
       "</div>"
      ],
      "text/plain": [
       "                          order_side     open     high      low    close  \\\n",
       "timestamp                                                                  \n",
       "2022-11-09 12:37:00+00:00        Buy  18130.0  18141.0  18117.0  18121.0   \n",
       "2022-11-09 12:37:00+00:00       Sell  18136.0  18140.0  18117.0  18117.0   \n",
       "2022-11-09 12:37:10+00:00        Buy  18125.0  18128.0  18120.0  18128.0   \n",
       "2022-11-09 12:37:10+00:00       Sell  18126.0  18126.0  18118.0  18126.0   \n",
       "2022-11-09 12:37:20+00:00        Buy  18132.0  18151.0  18130.0  18149.0   \n",
       "...                              ...      ...      ...      ...      ...   \n",
       "2022-11-09 12:43:10+00:00       Sell  18206.0  18216.0  18192.0  18209.0   \n",
       "2022-11-09 12:43:20+00:00        Buy  18213.0  18222.0  18213.0  18216.0   \n",
       "2022-11-09 12:43:20+00:00       Sell  18214.0  18222.0  18214.0  18216.0   \n",
       "2022-11-09 12:43:30+00:00        Buy  18217.0  18226.0  18217.0  18224.0   \n",
       "2022-11-09 12:43:30+00:00       Sell  18216.0  18226.0  18216.0  18223.0   \n",
       "\n",
       "                               vol  count  \n",
       "timestamp                                  \n",
       "2022-11-09 12:37:00+00:00  11.0998   51.0  \n",
       "2022-11-09 12:37:00+00:00  19.5994   60.0  \n",
       "2022-11-09 12:37:10+00:00   2.2613   32.0  \n",
       "2022-11-09 12:37:10+00:00   8.2731   31.0  \n",
       "2022-11-09 12:37:20+00:00  13.4190   33.0  \n",
       "...                            ...    ...  \n",
       "2022-11-09 12:43:10+00:00  15.9797   71.0  \n",
       "2022-11-09 12:43:20+00:00  10.8137   48.0  \n",
       "2022-11-09 12:43:20+00:00   5.5584   21.0  \n",
       "2022-11-09 12:43:30+00:00   4.0441   42.0  \n",
       "2022-11-09 12:43:30+00:00   9.3071   29.0  \n",
       "\n",
       "[80 rows x 7 columns]"
      ]
     },
     "execution_count": 29,
     "metadata": {},
     "output_type": "execute_result"
    }
   ],
   "source": [
    "ohlcv2"
   ]
  },
  {
   "cell_type": "code",
   "execution_count": 14,
   "metadata": {
    "pycharm": {
     "name": "#%%\n"
    }
   },
   "outputs": [],
   "source": [
    "s = rbot.Session()"
   ]
  },
  {
   "cell_type": "code",
   "execution_count": 16,
   "metadata": {
    "pycharm": {
     "name": "#%%\n"
    }
   },
   "outputs": [
    {
     "data": {
      "text/plain": [
       "<rbot.Session at 0x1293be0b0>"
      ]
     },
     "execution_count": 16,
     "metadata": {},
     "output_type": "execute_result"
    }
   ],
   "source": [
    "s"
   ]
  },
  {
   "cell_type": "code",
   "execution_count": 19,
   "metadata": {
    "pycharm": {
     "name": "#%%\n"
    }
   },
   "outputs": [],
   "source": [
    "s2 = rbot._DummySession()"
   ]
  },
  {
   "cell_type": "code",
   "execution_count": 20,
   "metadata": {
    "pycharm": {
     "name": "#%%\n"
    }
   },
   "outputs": [
    {
     "data": {
      "text/plain": [
       "0.0"
      ]
     },
     "execution_count": 20,
     "metadata": {},
     "output_type": "execute_result"
    }
   ],
   "source": [
    "s2.get_center_price()"
   ]
  },
  {
   "cell_type": "code",
   "execution_count": 47,
   "metadata": {
    "pycharm": {
     "name": "#%%\n"
    }
   },
   "outputs": [],
   "source": [
    "df2 = pd.read_csv('ftx.csv', names=(\"timestamp\", 'price', 'order_side', 'liquid', 'id'), i)"
   ]
  },
  {
   "cell_type": "code",
   "execution_count": 48,
   "metadata": {
    "pycharm": {
     "name": "#%%\n"
    }
   },
   "outputs": [
    {
     "data": {
      "text/html": [
       "<div>\n",
       "<style scoped>\n",
       "    .dataframe tbody tr th:only-of-type {\n",
       "        vertical-align: middle;\n",
       "    }\n",
       "\n",
       "    .dataframe tbody tr th {\n",
       "        vertical-align: top;\n",
       "    }\n",
       "\n",
       "    .dataframe thead th {\n",
       "        text-align: right;\n",
       "    }\n",
       "</style>\n",
       "<table border=\"1\" class=\"dataframe\">\n",
       "  <thead>\n",
       "    <tr style=\"text-align: right;\">\n",
       "      <th></th>\n",
       "      <th>timestamp</th>\n",
       "      <th>price</th>\n",
       "      <th>order_side</th>\n",
       "      <th>liquid</th>\n",
       "      <th>id</th>\n",
       "    </tr>\n",
       "  </thead>\n",
       "  <tbody>\n",
       "    <tr>\n",
       "      <th>1667314934485667</th>\n",
       "      <td>20391</td>\n",
       "      <td>0.0001</td>\n",
       "      <td>Sell</td>\n",
       "      <td>false</td>\n",
       "      <td>5283994328</td>\n",
       "    </tr>\n",
       "    <tr>\n",
       "      <th>1667314934380211</th>\n",
       "      <td>20391</td>\n",
       "      <td>0.0001</td>\n",
       "      <td>Sell</td>\n",
       "      <td>false</td>\n",
       "      <td>5283994317</td>\n",
       "    </tr>\n",
       "    <tr>\n",
       "      <th>1667314934341958</th>\n",
       "      <td>20392</td>\n",
       "      <td>0.2453</td>\n",
       "      <td>Buy</td>\n",
       "      <td>false</td>\n",
       "      <td>5283994311</td>\n",
       "    </tr>\n",
       "    <tr>\n",
       "      <th>1667314934286755</th>\n",
       "      <td>20392</td>\n",
       "      <td>0.0260</td>\n",
       "      <td>Buy</td>\n",
       "      <td>false</td>\n",
       "      <td>5283994301</td>\n",
       "    </tr>\n",
       "    <tr>\n",
       "      <th>1667314934271012</th>\n",
       "      <td>20391</td>\n",
       "      <td>0.0001</td>\n",
       "      <td>Sell</td>\n",
       "      <td>false</td>\n",
       "      <td>5283994291</td>\n",
       "    </tr>\n",
       "    <tr>\n",
       "      <th>...</th>\n",
       "      <td>...</td>\n",
       "      <td>...</td>\n",
       "      <td>...</td>\n",
       "      <td>...</td>\n",
       "      <td>...</td>\n",
       "    </tr>\n",
       "    <tr>\n",
       "      <th>1667227934951002</th>\n",
       "      <td>20350</td>\n",
       "      <td>0.0100</td>\n",
       "      <td>Buy</td>\n",
       "      <td>false</td>\n",
       "      <td>5274339831</td>\n",
       "    </tr>\n",
       "    <tr>\n",
       "      <th>1667227934951002</th>\n",
       "      <td>20350</td>\n",
       "      <td>0.0010</td>\n",
       "      <td>Buy</td>\n",
       "      <td>false</td>\n",
       "      <td>5274339830</td>\n",
       "    </tr>\n",
       "    <tr>\n",
       "      <th>1667227934439297</th>\n",
       "      <td>20349</td>\n",
       "      <td>0.0010</td>\n",
       "      <td>Sell</td>\n",
       "      <td>false</td>\n",
       "      <td>5274339780</td>\n",
       "    </tr>\n",
       "    <tr>\n",
       "      <th>1667227934285876</th>\n",
       "      <td>20349</td>\n",
       "      <td>0.0015</td>\n",
       "      <td>Buy</td>\n",
       "      <td>false</td>\n",
       "      <td>5274339748</td>\n",
       "    </tr>\n",
       "    <tr>\n",
       "      <th>1667227934285876</th>\n",
       "      <td>20349</td>\n",
       "      <td>0.0019</td>\n",
       "      <td>Buy</td>\n",
       "      <td>false</td>\n",
       "      <td>5274339747</td>\n",
       "    </tr>\n",
       "  </tbody>\n",
       "</table>\n",
       "<p>293968 rows × 5 columns</p>\n",
       "</div>"
      ],
      "text/plain": [
       "                  timestamp   price order_side  liquid          id\n",
       "1667314934485667      20391  0.0001       Sell   false  5283994328\n",
       "1667314934380211      20391  0.0001       Sell   false  5283994317\n",
       "1667314934341958      20392  0.2453        Buy   false  5283994311\n",
       "1667314934286755      20392  0.0260        Buy   false  5283994301\n",
       "1667314934271012      20391  0.0001       Sell   false  5283994291\n",
       "...                     ...     ...        ...     ...         ...\n",
       "1667227934951002      20350  0.0100        Buy   false  5274339831\n",
       "1667227934951002      20350  0.0010        Buy   false  5274339830\n",
       "1667227934439297      20349  0.0010       Sell   false  5274339780\n",
       "1667227934285876      20349  0.0015        Buy   false  5274339748\n",
       "1667227934285876      20349  0.0019        Buy   false  5274339747\n",
       "\n",
       "[293968 rows x 5 columns]"
      ]
     },
     "execution_count": 48,
     "metadata": {},
     "output_type": "execute_result"
    }
   ],
   "source": [
    "df2"
   ]
  },
  {
   "cell_type": "code",
   "execution_count": 39,
   "metadata": {
    "pycharm": {
     "name": "#%%\n"
    }
   },
   "outputs": [],
   "source": [
    "df2['diff'] = df2['timestamp'].diff()"
   ]
  },
  {
   "cell_type": "code",
   "execution_count": 40,
   "metadata": {
    "pycharm": {
     "name": "#%%\n"
    }
   },
   "outputs": [
    {
     "data": {
      "text/plain": [
       "1667314934485667    NaN\n",
       "1667314934380211    0.0\n",
       "1667314934341958    1.0\n",
       "1667314934286755    0.0\n",
       "1667314934271012   -1.0\n",
       "                   ... \n",
       "1667227934951002    0.0\n",
       "1667227934951002    0.0\n",
       "1667227934439297   -1.0\n",
       "1667227934285876    0.0\n",
       "1667227934285876    0.0\n",
       "Name: diff, Length: 293968, dtype: float64"
      ]
     },
     "execution_count": 40,
     "metadata": {},
     "output_type": "execute_result"
    }
   ],
   "source": [
    "df2['diff']"
   ]
  },
  {
   "cell_type": "code",
   "execution_count": 45,
   "metadata": {
    "pycharm": {
     "name": "#%%\n"
    }
   },
   "outputs": [
    {
     "data": {
      "text/html": [
       "<div>\n",
       "<style scoped>\n",
       "    .dataframe tbody tr th:only-of-type {\n",
       "        vertical-align: middle;\n",
       "    }\n",
       "\n",
       "    .dataframe tbody tr th {\n",
       "        vertical-align: top;\n",
       "    }\n",
       "\n",
       "    .dataframe thead th {\n",
       "        text-align: right;\n",
       "    }\n",
       "</style>\n",
       "<table border=\"1\" class=\"dataframe\">\n",
       "  <thead>\n",
       "    <tr style=\"text-align: right;\">\n",
       "      <th></th>\n",
       "      <th>timestamp</th>\n",
       "      <th>price</th>\n",
       "      <th>order_side</th>\n",
       "      <th>liquid</th>\n",
       "      <th>id</th>\n",
       "      <th>diff</th>\n",
       "    </tr>\n",
       "  </thead>\n",
       "  <tbody>\n",
       "    <tr>\n",
       "      <th>1667314810143806</th>\n",
       "      <td>20405</td>\n",
       "      <td>0.0001</td>\n",
       "      <td>Sell</td>\n",
       "      <td>false</td>\n",
       "      <td>5283979059</td>\n",
       "      <td>-2.0</td>\n",
       "    </tr>\n",
       "    <tr>\n",
       "      <th>1667314729898654</th>\n",
       "      <td>20388</td>\n",
       "      <td>0.0011</td>\n",
       "      <td>Buy</td>\n",
       "      <td>false</td>\n",
       "      <td>5283972144</td>\n",
       "      <td>-2.0</td>\n",
       "    </tr>\n",
       "    <tr>\n",
       "      <th>1667314723949493</th>\n",
       "      <td>20389</td>\n",
       "      <td>0.1000</td>\n",
       "      <td>Buy</td>\n",
       "      <td>false</td>\n",
       "      <td>5283971641</td>\n",
       "      <td>-2.0</td>\n",
       "    </tr>\n",
       "    <tr>\n",
       "      <th>1667314723930986</th>\n",
       "      <td>20388</td>\n",
       "      <td>0.2390</td>\n",
       "      <td>Buy</td>\n",
       "      <td>false</td>\n",
       "      <td>5283971630</td>\n",
       "      <td>-3.0</td>\n",
       "    </tr>\n",
       "    <tr>\n",
       "      <th>1667314721484732</th>\n",
       "      <td>20383</td>\n",
       "      <td>0.0200</td>\n",
       "      <td>Buy</td>\n",
       "      <td>false</td>\n",
       "      <td>5283971168</td>\n",
       "      <td>-2.0</td>\n",
       "    </tr>\n",
       "    <tr>\n",
       "      <th>...</th>\n",
       "      <td>...</td>\n",
       "      <td>...</td>\n",
       "      <td>...</td>\n",
       "      <td>...</td>\n",
       "      <td>...</td>\n",
       "      <td>...</td>\n",
       "    </tr>\n",
       "    <tr>\n",
       "      <th>1667227982525311</th>\n",
       "      <td>20348</td>\n",
       "      <td>1.0762</td>\n",
       "      <td>Buy</td>\n",
       "      <td>false</td>\n",
       "      <td>5274349198</td>\n",
       "      <td>-2.0</td>\n",
       "    </tr>\n",
       "    <tr>\n",
       "      <th>1667227981683112</th>\n",
       "      <td>20345</td>\n",
       "      <td>0.0010</td>\n",
       "      <td>Buy</td>\n",
       "      <td>false</td>\n",
       "      <td>5274349097</td>\n",
       "      <td>-2.0</td>\n",
       "    </tr>\n",
       "    <tr>\n",
       "      <th>1667227961829144</th>\n",
       "      <td>20346</td>\n",
       "      <td>0.0010</td>\n",
       "      <td>Buy</td>\n",
       "      <td>false</td>\n",
       "      <td>5274345177</td>\n",
       "      <td>-2.0</td>\n",
       "    </tr>\n",
       "    <tr>\n",
       "      <th>1667227960847934</th>\n",
       "      <td>20344</td>\n",
       "      <td>1.6144</td>\n",
       "      <td>Buy</td>\n",
       "      <td>false</td>\n",
       "      <td>5274344978</td>\n",
       "      <td>-2.0</td>\n",
       "    </tr>\n",
       "    <tr>\n",
       "      <th>1667227941061546</th>\n",
       "      <td>20349</td>\n",
       "      <td>1.0707</td>\n",
       "      <td>Buy</td>\n",
       "      <td>false</td>\n",
       "      <td>5274341314</td>\n",
       "      <td>-2.0</td>\n",
       "    </tr>\n",
       "  </tbody>\n",
       "</table>\n",
       "<p>1216 rows × 6 columns</p>\n",
       "</div>"
      ],
      "text/plain": [
       "                  timestamp   price order_side  liquid          id  diff\n",
       "1667314810143806      20405  0.0001       Sell   false  5283979059  -2.0\n",
       "1667314729898654      20388  0.0011        Buy   false  5283972144  -2.0\n",
       "1667314723949493      20389  0.1000        Buy   false  5283971641  -2.0\n",
       "1667314723930986      20388  0.2390        Buy   false  5283971630  -3.0\n",
       "1667314721484732      20383  0.0200        Buy   false  5283971168  -2.0\n",
       "...                     ...     ...        ...     ...         ...   ...\n",
       "1667227982525311      20348  1.0762        Buy   false  5274349198  -2.0\n",
       "1667227981683112      20345  0.0010        Buy   false  5274349097  -2.0\n",
       "1667227961829144      20346  0.0010        Buy   false  5274345177  -2.0\n",
       "1667227960847934      20344  1.6144        Buy   false  5274344978  -2.0\n",
       "1667227941061546      20349  1.0707        Buy   false  5274341314  -2.0\n",
       "\n",
       "[1216 rows x 6 columns]"
      ]
     },
     "execution_count": 45,
     "metadata": {},
     "output_type": "execute_result"
    }
   ],
   "source": [
    "df2[df2['diff'] < -1]"
   ]
  },
  {
   "cell_type": "code",
   "execution_count": null,
   "metadata": {
    "pycharm": {
     "name": "#%%\n"
    }
   },
   "outputs": [],
   "source": []
  }
 ],
 "metadata": {
  "kernelspec": {
   "display_name": "Python 3 (ipykernel)",
   "language": "python",
   "name": "python3"
  },
  "language_info": {
   "codemirror_mode": {
    "name": "ipython",
    "version": 3
   },
   "file_extension": ".py",
   "mimetype": "text/x-python",
   "name": "python",
   "nbconvert_exporter": "python",
   "pygments_lexer": "ipython3",
   "version": "3.10.6"
  },
  "vscode": {
   "interpreter": {
    "hash": "eda7e54fe21129b67f77862937907ee926f057597a3e2fa1e18ac955e40912b3"
   }
  }
 },
 "nbformat": 4,
 "nbformat_minor": 4
}
