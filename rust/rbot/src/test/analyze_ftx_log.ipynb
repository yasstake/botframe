{
 "cells": [
  {
   "cell_type": "code",
   "execution_count": null,
   "metadata": {},
   "outputs": [],
   "source": []
  },
  {
   "cell_type": "code",
   "execution_count": 1,
   "metadata": {},
   "outputs": [],
   "source": [
    "import numpy as np\n",
    "import pandas\n",
    "import pandas as pd"
   ]
  },
  {
   "cell_type": "code",
   "execution_count": 2,
   "metadata": {},
   "outputs": [],
   "source": [
    "import rbot"
   ]
  },
  {
   "cell_type": "code",
   "execution_count": 3,
   "metadata": {},
   "outputs": [],
   "source": [
    "ftx = rbot.FtxMarket(\"BTC-PERP\", True)"
   ]
  },
  {
   "cell_type": "code",
   "execution_count": 5,
   "outputs": [],
   "source": [
    "trades = ftx.select_trades(0, 0)"
   ],
   "metadata": {
    "collapsed": false,
    "pycharm": {
     "name": "#%%\n"
    }
   }
  },
  {
   "cell_type": "code",
   "execution_count": 6,
   "outputs": [],
   "source": [
    "df = pd.DataFrame(trades)"
   ],
   "metadata": {
    "collapsed": false,
    "pycharm": {
     "name": "#%%\n"
    }
   }
  },
  {
   "cell_type": "code",
   "execution_count": 15,
   "outputs": [],
   "source": [
    "def trades_to_df(array):\n",
    "    df = pd.DataFrame(\n",
    "        array, columns=[\"timestamp\", \"price\", \"size\", \"side\", \"liquid\"])\n",
    "    df['timestamp'] = pd.to_datetime(\n",
    "        (df[\"timestamp\"]), utc=True, unit='us')\n",
    "    df = df.set_index('timestamp')\n",
    "\n",
    "    def bs_decode(bs):\n",
    "        if bs == 0:\n",
    "            return \"Sell\"\n",
    "        elif bs == 1:\n",
    "            return \"Buy\"\n",
    "        else:\n",
    "            return \"ERROR\"\n",
    "\n",
    "    df['side'] = df['side'].map(bs_decode)\n",
    "\n",
    "    def liquid(liq):\n",
    "        if liq == 0.0:\n",
    "            return False\n",
    "        else:\n",
    "            return True\n",
    "\n",
    "    df['liquid'] = df['liquid'].map(liquid)\n",
    "\n",
    "    return df"
   ],
   "metadata": {
    "collapsed": false,
    "pycharm": {
     "name": "#%%\n"
    }
   }
  },
  {
   "cell_type": "code",
   "execution_count": 16,
   "outputs": [],
   "source": [
    "df = trades_to_df(trades)"
   ],
   "metadata": {
    "collapsed": false,
    "pycharm": {
     "name": "#%%\n"
    }
   }
  },
  {
   "cell_type": "code",
   "execution_count": 22,
   "outputs": [],
   "source": [
    "df['diff'] = df.index.to_series().diff()"
   ],
   "metadata": {
    "collapsed": false,
    "pycharm": {
     "name": "#%%\n"
    }
   }
  },
  {
   "cell_type": "code",
   "execution_count": 28,
   "outputs": [
    {
     "data": {
      "text/plain": "                                       price    size  side  liquid  \\\ntimestamp                                                            \n2022-10-30 12:44:32.441976064+00:00  20728.0  0.0001  Sell   False   \n2022-10-30 12:45:56.010342912+00:00  20734.0  0.0782  Sell   False   \n2022-10-30 12:52:26.429143040+00:00  20738.0  0.0426  Sell   False   \n2022-10-30 12:56:46.009924096+00:00  20745.0  0.0678  Sell   False   \n2022-10-30 13:03:11.537314048+00:00  20726.0  0.0916  Sell   False   \n...                                      ...     ...   ...     ...   \n2022-11-01 22:43:03.452621056+00:00  20463.0  0.0001   Buy   False   \n2022-11-01 22:43:34.198615040+00:00  20462.0  0.0001  Sell   False   \n2022-11-01 22:47:34.745540096+00:00  20469.0  0.0001  Sell   False   \n2022-11-01 22:50:03.101317120+00:00  20457.0  0.0001   Buy   False   \n2022-11-01 22:51:04.248941056+00:00  20456.0  0.0001  Sell   False   \n\n                                                         diff  \ntimestamp                                                      \n2022-10-30 12:44:32.441976064+00:00 0 days 00:00:14.822893056  \n2022-10-30 12:45:56.010342912+00:00 0 days 00:00:14.158381824  \n2022-10-30 12:52:26.429143040+00:00 0 days 00:00:10.578434048  \n2022-10-30 12:56:46.009924096+00:00 0 days 00:00:10.673777152  \n2022-10-30 13:03:11.537314048+00:00    0 days 00:00:12.304480  \n...                                                       ...  \n2022-11-01 22:43:03.452621056+00:00 0 days 00:00:14.287037184  \n2022-11-01 22:43:34.198615040+00:00 0 days 00:00:13.036764928  \n2022-11-01 22:47:34.745540096+00:00 0 days 00:00:13.160911104  \n2022-11-01 22:50:03.101317120+00:00 0 days 00:00:12.872526080  \n2022-11-01 22:51:04.248941056+00:00 0 days 00:00:11.214931968  \n\n[248 rows x 5 columns]",
      "text/html": "<div>\n<style scoped>\n    .dataframe tbody tr th:only-of-type {\n        vertical-align: middle;\n    }\n\n    .dataframe tbody tr th {\n        vertical-align: top;\n    }\n\n    .dataframe thead th {\n        text-align: right;\n    }\n</style>\n<table border=\"1\" class=\"dataframe\">\n  <thead>\n    <tr style=\"text-align: right;\">\n      <th></th>\n      <th>price</th>\n      <th>size</th>\n      <th>side</th>\n      <th>liquid</th>\n      <th>diff</th>\n    </tr>\n    <tr>\n      <th>timestamp</th>\n      <th></th>\n      <th></th>\n      <th></th>\n      <th></th>\n      <th></th>\n    </tr>\n  </thead>\n  <tbody>\n    <tr>\n      <th>2022-10-30 12:44:32.441976064+00:00</th>\n      <td>20728.0</td>\n      <td>0.0001</td>\n      <td>Sell</td>\n      <td>False</td>\n      <td>0 days 00:00:14.822893056</td>\n    </tr>\n    <tr>\n      <th>2022-10-30 12:45:56.010342912+00:00</th>\n      <td>20734.0</td>\n      <td>0.0782</td>\n      <td>Sell</td>\n      <td>False</td>\n      <td>0 days 00:00:14.158381824</td>\n    </tr>\n    <tr>\n      <th>2022-10-30 12:52:26.429143040+00:00</th>\n      <td>20738.0</td>\n      <td>0.0426</td>\n      <td>Sell</td>\n      <td>False</td>\n      <td>0 days 00:00:10.578434048</td>\n    </tr>\n    <tr>\n      <th>2022-10-30 12:56:46.009924096+00:00</th>\n      <td>20745.0</td>\n      <td>0.0678</td>\n      <td>Sell</td>\n      <td>False</td>\n      <td>0 days 00:00:10.673777152</td>\n    </tr>\n    <tr>\n      <th>2022-10-30 13:03:11.537314048+00:00</th>\n      <td>20726.0</td>\n      <td>0.0916</td>\n      <td>Sell</td>\n      <td>False</td>\n      <td>0 days 00:00:12.304480</td>\n    </tr>\n    <tr>\n      <th>...</th>\n      <td>...</td>\n      <td>...</td>\n      <td>...</td>\n      <td>...</td>\n      <td>...</td>\n    </tr>\n    <tr>\n      <th>2022-11-01 22:43:03.452621056+00:00</th>\n      <td>20463.0</td>\n      <td>0.0001</td>\n      <td>Buy</td>\n      <td>False</td>\n      <td>0 days 00:00:14.287037184</td>\n    </tr>\n    <tr>\n      <th>2022-11-01 22:43:34.198615040+00:00</th>\n      <td>20462.0</td>\n      <td>0.0001</td>\n      <td>Sell</td>\n      <td>False</td>\n      <td>0 days 00:00:13.036764928</td>\n    </tr>\n    <tr>\n      <th>2022-11-01 22:47:34.745540096+00:00</th>\n      <td>20469.0</td>\n      <td>0.0001</td>\n      <td>Sell</td>\n      <td>False</td>\n      <td>0 days 00:00:13.160911104</td>\n    </tr>\n    <tr>\n      <th>2022-11-01 22:50:03.101317120+00:00</th>\n      <td>20457.0</td>\n      <td>0.0001</td>\n      <td>Buy</td>\n      <td>False</td>\n      <td>0 days 00:00:12.872526080</td>\n    </tr>\n    <tr>\n      <th>2022-11-01 22:51:04.248941056+00:00</th>\n      <td>20456.0</td>\n      <td>0.0001</td>\n      <td>Sell</td>\n      <td>False</td>\n      <td>0 days 00:00:11.214931968</td>\n    </tr>\n  </tbody>\n</table>\n<p>248 rows × 5 columns</p>\n</div>"
     },
     "execution_count": 28,
     "metadata": {},
     "output_type": "execute_result"
    }
   ],
   "source": [
    "df[pd.Timedelta(10, unit=\"sec\") < df['diff']]\n"
   ],
   "metadata": {
    "collapsed": false,
    "pycharm": {
     "name": "#%%\n"
    }
   }
  },
  {
   "cell_type": "code",
   "execution_count": 29,
   "outputs": [
    {
     "data": {
      "text/plain": "'{\"start\": 2022-09-13T13:26:37.367120, \"end\": 2022-11-02T13:36:36.994701, \"count\": 20725702}'"
     },
     "execution_count": 29,
     "metadata": {},
     "output_type": "execute_result"
    }
   ],
   "source": [
    "ftx.load_log(50)"
   ],
   "metadata": {
    "collapsed": false,
    "pycharm": {
     "name": "#%%\n"
    }
   }
  },
  {
   "cell_type": "code",
   "execution_count": 30,
   "outputs": [],
   "source": [
    "array = ftx.select_trades(0, 0)"
   ],
   "metadata": {
    "collapsed": false,
    "pycharm": {
     "name": "#%%\n"
    }
   }
  },
  {
   "cell_type": "code",
   "execution_count": 31,
   "outputs": [
    {
     "data": {
      "text/plain": "(20725702, 5)"
     },
     "execution_count": 31,
     "metadata": {},
     "output_type": "execute_result"
    }
   ],
   "source": [
    "array.shape"
   ],
   "metadata": {
    "collapsed": false,
    "pycharm": {
     "name": "#%%\n"
    }
   }
  },
  {
   "cell_type": "code",
   "execution_count": 33,
   "outputs": [],
   "source": [
    "df = trades_to_df(array)"
   ],
   "metadata": {
    "collapsed": false,
    "pycharm": {
     "name": "#%%\n"
    }
   }
  },
  {
   "cell_type": "code",
   "execution_count": 34,
   "outputs": [
    {
     "data": {
      "text/plain": "                                       price    size  side  liquid\ntimestamp                                                         \n2022-09-13 13:30:21.208737024+00:00  21337.0  0.0028  Sell    True\n2022-09-13 13:36:34.898341120+00:00  21374.0  0.0401  Sell    True\n2022-09-13 13:36:47.153015040+00:00  21360.0  0.0432  Sell    True\n2022-09-13 13:37:45.171756032+00:00  21329.0  0.2658  Sell    True\n2022-09-13 13:38:14.774477056+00:00  21314.0  0.0002  Sell    True\n...                                      ...     ...   ...     ...\n2022-11-02 10:04:01.318811904+00:00  20400.0  0.2713  Sell    True\n2022-11-02 10:06:33.648379904+00:00  20373.0  0.0267  Sell    True\n2022-11-02 10:06:42.642800896+00:00  20361.0  0.1708  Sell    True\n2022-11-02 10:28:59.081340928+00:00  20390.0  0.0271  Sell    True\n2022-11-02 13:33:56.717647104+00:00  20370.0  0.0079  Sell    True\n\n[83061 rows x 4 columns]",
      "text/html": "<div>\n<style scoped>\n    .dataframe tbody tr th:only-of-type {\n        vertical-align: middle;\n    }\n\n    .dataframe tbody tr th {\n        vertical-align: top;\n    }\n\n    .dataframe thead th {\n        text-align: right;\n    }\n</style>\n<table border=\"1\" class=\"dataframe\">\n  <thead>\n    <tr style=\"text-align: right;\">\n      <th></th>\n      <th>price</th>\n      <th>size</th>\n      <th>side</th>\n      <th>liquid</th>\n    </tr>\n    <tr>\n      <th>timestamp</th>\n      <th></th>\n      <th></th>\n      <th></th>\n      <th></th>\n    </tr>\n  </thead>\n  <tbody>\n    <tr>\n      <th>2022-09-13 13:30:21.208737024+00:00</th>\n      <td>21337.0</td>\n      <td>0.0028</td>\n      <td>Sell</td>\n      <td>True</td>\n    </tr>\n    <tr>\n      <th>2022-09-13 13:36:34.898341120+00:00</th>\n      <td>21374.0</td>\n      <td>0.0401</td>\n      <td>Sell</td>\n      <td>True</td>\n    </tr>\n    <tr>\n      <th>2022-09-13 13:36:47.153015040+00:00</th>\n      <td>21360.0</td>\n      <td>0.0432</td>\n      <td>Sell</td>\n      <td>True</td>\n    </tr>\n    <tr>\n      <th>2022-09-13 13:37:45.171756032+00:00</th>\n      <td>21329.0</td>\n      <td>0.2658</td>\n      <td>Sell</td>\n      <td>True</td>\n    </tr>\n    <tr>\n      <th>2022-09-13 13:38:14.774477056+00:00</th>\n      <td>21314.0</td>\n      <td>0.0002</td>\n      <td>Sell</td>\n      <td>True</td>\n    </tr>\n    <tr>\n      <th>...</th>\n      <td>...</td>\n      <td>...</td>\n      <td>...</td>\n      <td>...</td>\n    </tr>\n    <tr>\n      <th>2022-11-02 10:04:01.318811904+00:00</th>\n      <td>20400.0</td>\n      <td>0.2713</td>\n      <td>Sell</td>\n      <td>True</td>\n    </tr>\n    <tr>\n      <th>2022-11-02 10:06:33.648379904+00:00</th>\n      <td>20373.0</td>\n      <td>0.0267</td>\n      <td>Sell</td>\n      <td>True</td>\n    </tr>\n    <tr>\n      <th>2022-11-02 10:06:42.642800896+00:00</th>\n      <td>20361.0</td>\n      <td>0.1708</td>\n      <td>Sell</td>\n      <td>True</td>\n    </tr>\n    <tr>\n      <th>2022-11-02 10:28:59.081340928+00:00</th>\n      <td>20390.0</td>\n      <td>0.0271</td>\n      <td>Sell</td>\n      <td>True</td>\n    </tr>\n    <tr>\n      <th>2022-11-02 13:33:56.717647104+00:00</th>\n      <td>20370.0</td>\n      <td>0.0079</td>\n      <td>Sell</td>\n      <td>True</td>\n    </tr>\n  </tbody>\n</table>\n<p>83061 rows × 4 columns</p>\n</div>"
     },
     "execution_count": 34,
     "metadata": {},
     "output_type": "execute_result"
    }
   ],
   "source": [
    "df[df['liquid']==True]"
   ],
   "metadata": {
    "collapsed": false,
    "pycharm": {
     "name": "#%%\n"
    }
   }
  },
  {
   "cell_type": "code",
   "execution_count": 47,
   "outputs": [],
   "source": [
    "df2 = pd.read_csv('ftx.csv', names=(\"timestamp\", 'price', 'order_side', 'liquid', 'id'), i)"
   ],
   "metadata": {
    "collapsed": false,
    "pycharm": {
     "name": "#%%\n"
    }
   }
  },
  {
   "cell_type": "code",
   "execution_count": 48,
   "outputs": [
    {
     "data": {
      "text/plain": "                  timestamp   price order_side  liquid          id\n1667314934485667      20391  0.0001       Sell   false  5283994328\n1667314934380211      20391  0.0001       Sell   false  5283994317\n1667314934341958      20392  0.2453        Buy   false  5283994311\n1667314934286755      20392  0.0260        Buy   false  5283994301\n1667314934271012      20391  0.0001       Sell   false  5283994291\n...                     ...     ...        ...     ...         ...\n1667227934951002      20350  0.0100        Buy   false  5274339831\n1667227934951002      20350  0.0010        Buy   false  5274339830\n1667227934439297      20349  0.0010       Sell   false  5274339780\n1667227934285876      20349  0.0015        Buy   false  5274339748\n1667227934285876      20349  0.0019        Buy   false  5274339747\n\n[293968 rows x 5 columns]",
      "text/html": "<div>\n<style scoped>\n    .dataframe tbody tr th:only-of-type {\n        vertical-align: middle;\n    }\n\n    .dataframe tbody tr th {\n        vertical-align: top;\n    }\n\n    .dataframe thead th {\n        text-align: right;\n    }\n</style>\n<table border=\"1\" class=\"dataframe\">\n  <thead>\n    <tr style=\"text-align: right;\">\n      <th></th>\n      <th>timestamp</th>\n      <th>price</th>\n      <th>order_side</th>\n      <th>liquid</th>\n      <th>id</th>\n    </tr>\n  </thead>\n  <tbody>\n    <tr>\n      <th>1667314934485667</th>\n      <td>20391</td>\n      <td>0.0001</td>\n      <td>Sell</td>\n      <td>false</td>\n      <td>5283994328</td>\n    </tr>\n    <tr>\n      <th>1667314934380211</th>\n      <td>20391</td>\n      <td>0.0001</td>\n      <td>Sell</td>\n      <td>false</td>\n      <td>5283994317</td>\n    </tr>\n    <tr>\n      <th>1667314934341958</th>\n      <td>20392</td>\n      <td>0.2453</td>\n      <td>Buy</td>\n      <td>false</td>\n      <td>5283994311</td>\n    </tr>\n    <tr>\n      <th>1667314934286755</th>\n      <td>20392</td>\n      <td>0.0260</td>\n      <td>Buy</td>\n      <td>false</td>\n      <td>5283994301</td>\n    </tr>\n    <tr>\n      <th>1667314934271012</th>\n      <td>20391</td>\n      <td>0.0001</td>\n      <td>Sell</td>\n      <td>false</td>\n      <td>5283994291</td>\n    </tr>\n    <tr>\n      <th>...</th>\n      <td>...</td>\n      <td>...</td>\n      <td>...</td>\n      <td>...</td>\n      <td>...</td>\n    </tr>\n    <tr>\n      <th>1667227934951002</th>\n      <td>20350</td>\n      <td>0.0100</td>\n      <td>Buy</td>\n      <td>false</td>\n      <td>5274339831</td>\n    </tr>\n    <tr>\n      <th>1667227934951002</th>\n      <td>20350</td>\n      <td>0.0010</td>\n      <td>Buy</td>\n      <td>false</td>\n      <td>5274339830</td>\n    </tr>\n    <tr>\n      <th>1667227934439297</th>\n      <td>20349</td>\n      <td>0.0010</td>\n      <td>Sell</td>\n      <td>false</td>\n      <td>5274339780</td>\n    </tr>\n    <tr>\n      <th>1667227934285876</th>\n      <td>20349</td>\n      <td>0.0015</td>\n      <td>Buy</td>\n      <td>false</td>\n      <td>5274339748</td>\n    </tr>\n    <tr>\n      <th>1667227934285876</th>\n      <td>20349</td>\n      <td>0.0019</td>\n      <td>Buy</td>\n      <td>false</td>\n      <td>5274339747</td>\n    </tr>\n  </tbody>\n</table>\n<p>293968 rows × 5 columns</p>\n</div>"
     },
     "execution_count": 48,
     "metadata": {},
     "output_type": "execute_result"
    }
   ],
   "source": [
    "df2"
   ],
   "metadata": {
    "collapsed": false,
    "pycharm": {
     "name": "#%%\n"
    }
   }
  },
  {
   "cell_type": "code",
   "execution_count": 39,
   "outputs": [],
   "source": [
    "df2['diff'] = df2['timestamp'].diff()"
   ],
   "metadata": {
    "collapsed": false,
    "pycharm": {
     "name": "#%%\n"
    }
   }
  },
  {
   "cell_type": "code",
   "execution_count": 40,
   "outputs": [
    {
     "data": {
      "text/plain": "1667314934485667    NaN\n1667314934380211    0.0\n1667314934341958    1.0\n1667314934286755    0.0\n1667314934271012   -1.0\n                   ... \n1667227934951002    0.0\n1667227934951002    0.0\n1667227934439297   -1.0\n1667227934285876    0.0\n1667227934285876    0.0\nName: diff, Length: 293968, dtype: float64"
     },
     "execution_count": 40,
     "metadata": {},
     "output_type": "execute_result"
    }
   ],
   "source": [
    "df2['diff']"
   ],
   "metadata": {
    "collapsed": false,
    "pycharm": {
     "name": "#%%\n"
    }
   }
  },
  {
   "cell_type": "code",
   "execution_count": 45,
   "outputs": [
    {
     "data": {
      "text/plain": "                  timestamp   price order_side  liquid          id  diff\n1667314810143806      20405  0.0001       Sell   false  5283979059  -2.0\n1667314729898654      20388  0.0011        Buy   false  5283972144  -2.0\n1667314723949493      20389  0.1000        Buy   false  5283971641  -2.0\n1667314723930986      20388  0.2390        Buy   false  5283971630  -3.0\n1667314721484732      20383  0.0200        Buy   false  5283971168  -2.0\n...                     ...     ...        ...     ...         ...   ...\n1667227982525311      20348  1.0762        Buy   false  5274349198  -2.0\n1667227981683112      20345  0.0010        Buy   false  5274349097  -2.0\n1667227961829144      20346  0.0010        Buy   false  5274345177  -2.0\n1667227960847934      20344  1.6144        Buy   false  5274344978  -2.0\n1667227941061546      20349  1.0707        Buy   false  5274341314  -2.0\n\n[1216 rows x 6 columns]",
      "text/html": "<div>\n<style scoped>\n    .dataframe tbody tr th:only-of-type {\n        vertical-align: middle;\n    }\n\n    .dataframe tbody tr th {\n        vertical-align: top;\n    }\n\n    .dataframe thead th {\n        text-align: right;\n    }\n</style>\n<table border=\"1\" class=\"dataframe\">\n  <thead>\n    <tr style=\"text-align: right;\">\n      <th></th>\n      <th>timestamp</th>\n      <th>price</th>\n      <th>order_side</th>\n      <th>liquid</th>\n      <th>id</th>\n      <th>diff</th>\n    </tr>\n  </thead>\n  <tbody>\n    <tr>\n      <th>1667314810143806</th>\n      <td>20405</td>\n      <td>0.0001</td>\n      <td>Sell</td>\n      <td>false</td>\n      <td>5283979059</td>\n      <td>-2.0</td>\n    </tr>\n    <tr>\n      <th>1667314729898654</th>\n      <td>20388</td>\n      <td>0.0011</td>\n      <td>Buy</td>\n      <td>false</td>\n      <td>5283972144</td>\n      <td>-2.0</td>\n    </tr>\n    <tr>\n      <th>1667314723949493</th>\n      <td>20389</td>\n      <td>0.1000</td>\n      <td>Buy</td>\n      <td>false</td>\n      <td>5283971641</td>\n      <td>-2.0</td>\n    </tr>\n    <tr>\n      <th>1667314723930986</th>\n      <td>20388</td>\n      <td>0.2390</td>\n      <td>Buy</td>\n      <td>false</td>\n      <td>5283971630</td>\n      <td>-3.0</td>\n    </tr>\n    <tr>\n      <th>1667314721484732</th>\n      <td>20383</td>\n      <td>0.0200</td>\n      <td>Buy</td>\n      <td>false</td>\n      <td>5283971168</td>\n      <td>-2.0</td>\n    </tr>\n    <tr>\n      <th>...</th>\n      <td>...</td>\n      <td>...</td>\n      <td>...</td>\n      <td>...</td>\n      <td>...</td>\n      <td>...</td>\n    </tr>\n    <tr>\n      <th>1667227982525311</th>\n      <td>20348</td>\n      <td>1.0762</td>\n      <td>Buy</td>\n      <td>false</td>\n      <td>5274349198</td>\n      <td>-2.0</td>\n    </tr>\n    <tr>\n      <th>1667227981683112</th>\n      <td>20345</td>\n      <td>0.0010</td>\n      <td>Buy</td>\n      <td>false</td>\n      <td>5274349097</td>\n      <td>-2.0</td>\n    </tr>\n    <tr>\n      <th>1667227961829144</th>\n      <td>20346</td>\n      <td>0.0010</td>\n      <td>Buy</td>\n      <td>false</td>\n      <td>5274345177</td>\n      <td>-2.0</td>\n    </tr>\n    <tr>\n      <th>1667227960847934</th>\n      <td>20344</td>\n      <td>1.6144</td>\n      <td>Buy</td>\n      <td>false</td>\n      <td>5274344978</td>\n      <td>-2.0</td>\n    </tr>\n    <tr>\n      <th>1667227941061546</th>\n      <td>20349</td>\n      <td>1.0707</td>\n      <td>Buy</td>\n      <td>false</td>\n      <td>5274341314</td>\n      <td>-2.0</td>\n    </tr>\n  </tbody>\n</table>\n<p>1216 rows × 6 columns</p>\n</div>"
     },
     "execution_count": 45,
     "metadata": {},
     "output_type": "execute_result"
    }
   ],
   "source": [
    "df2[df2['diff'] < -1]"
   ],
   "metadata": {
    "collapsed": false,
    "pycharm": {
     "name": "#%%\n"
    }
   }
  },
  {
   "cell_type": "code",
   "execution_count": null,
   "outputs": [],
   "source": [],
   "metadata": {
    "collapsed": false,
    "pycharm": {
     "name": "#%%\n"
    }
   }
  }
 ],
 "metadata": {
  "kernelspec": {
   "display_name": "Python 3.10.6 64-bit",
   "language": "python",
   "name": "python3"
  },
  "language_info": {
   "codemirror_mode": {
    "name": "ipython",
    "version": 3
   },
   "file_extension": ".py",
   "mimetype": "text/x-python",
   "name": "python",
   "nbconvert_exporter": "python",
   "pygments_lexer": "ipython3",
   "version": "3.10.6"
  },
  "orig_nbformat": 4,
  "vscode": {
   "interpreter": {
    "hash": "eda7e54fe21129b67f77862937907ee926f057597a3e2fa1e18ac955e40912b3"
   }
  }
 },
 "nbformat": 4,
 "nbformat_minor": 2
}