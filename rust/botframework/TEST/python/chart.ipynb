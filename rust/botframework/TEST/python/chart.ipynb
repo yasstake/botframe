{
 "cells": [
  {
   "cell_type": "code",
   "execution_count": null,
   "metadata": {},
   "outputs": [],
   "source": [
    "from IPython.display import Javascript\n",
    "from IPython.display import display"
   ]
  },
  {
   "cell_type": "code",
   "execution_count": null,
   "metadata": {},
   "outputs": [],
   "source": [
    "Javascript\n",
    "\n",
    "var chart = LightweightCharts.createChart(document.body, {\n",
    "\twidth: 600,\n",
    "  height: 300,\n",
    "\trightPriceScale: {\n",
    "\t\tvisible: true,\n",
    "    borderColor: 'rgba(197, 203, 206, 1)',\n",
    "\t},\n",
    "\tleftPriceScale: {\n",
    "\t\tvisible: true,\n",
    "    borderColor: 'rgba(197, 203, 206, 1)',\n",
    "\t},\n",
    "\tlayout: {\n",
    "\t\tbackgroundColor: '#ffffff',\n",
    "\t\ttextColor: 'rgba(33, 56, 77, 1)',\n",
    "\t},\n",
    "  grid: {\n",
    "    horzLines: {\n",
    "      color: '#F0F3FA',\n",
    "    },\n",
    "    vertLines: {\n",
    "      color: '#F0F3FA',\n",
    "    },\n",
    "  },\n",
    "\tcrosshair: {\n",
    "\t\tmode: LightweightCharts.CrosshairMode.Normal,\n",
    "\t},\n",
    "\ttimeScale: {\n",
    "\t\tborderColor: 'rgba(197, 203, 206, 1)',\n",
    "\t},\n",
    "\thandleScroll: {\n",
    "\t\tvertTouchDrag: false,\n",
    "\t},\n",
    "});"
   ]
  }
 ],
 "metadata": {
  "language_info": {
   "name": "python"
  },
  "orig_nbformat": 4
 },
 "nbformat": 4,
 "nbformat_minor": 2
}
