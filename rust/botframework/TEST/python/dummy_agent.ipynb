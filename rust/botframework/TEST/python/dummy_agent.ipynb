{
 "cells": [
  {
   "cell_type": "code",
   "execution_count": 1,
   "metadata": {},
   "outputs": [],
   "source": [
    "import pandas as pd\n",
    "import mplfinance as mpf"
   ]
  },
  {
   "cell_type": "code",
   "execution_count": 2,
   "metadata": {},
   "outputs": [],
   "source": [
    "import rbot"
   ]
  },
  {
   "cell_type": "code",
   "execution_count": 3,
   "metadata": {},
   "outputs": [],
   "source": [
    "bb = rbot.DummyBb()\n",
    "bb.log_load(30)\n"
   ]
  },
  {
   "cell_type": "code",
   "execution_count": 4,
   "metadata": {},
   "outputs": [],
   "source": [
    "def array_to_df(array):\n",
    "    ohlcv_df = pd.DataFrame(array, columns=[\"timestamp\", \"open\", \"high\", \"low\", \"close\", \"volume\"]) \n",
    "    ohlcv_df['timestamp'] = pd.to_datetime((ohlcv_df[\"timestamp\"]), utc=True, unit='ms')\n",
    "    ohlcv_df = ohlcv_df.set_index('timestamp')\n",
    "\n",
    "    return ohlcv_df\n",
    "    "
   ]
  },
  {
   "cell_type": "code",
   "execution_count": 5,
   "metadata": {},
   "outputs": [],
   "source": [
    "ohlcv = bb.ohlcv(0, bb.log_end_ms, 60*60 * 2)\n",
    "\n",
    "ohlcv_df = array_to_df(ohlcv)\n",
    "\n",
    "\n",
    "\n"
   ]
  },
  {
   "cell_type": "code",
   "execution_count": 6,
   "metadata": {},
   "outputs": [
    {
     "data": {
      "text/plain": [
       "'2022-06-25-23:59:59.000'"
      ]
     },
     "execution_count": 6,
     "metadata": {},
     "output_type": "execute_result"
    }
   ],
   "source": [
    "rbot.PrintTime(bb.log_end_ms)"
   ]
  },
  {
   "cell_type": "code",
   "execution_count": 7,
   "metadata": {},
   "outputs": [
    {
     "data": {
      "text/html": [
       "<div>\n",
       "<style scoped>\n",
       "    .dataframe tbody tr th:only-of-type {\n",
       "        vertical-align: middle;\n",
       "    }\n",
       "\n",
       "    .dataframe tbody tr th {\n",
       "        vertical-align: top;\n",
       "    }\n",
       "\n",
       "    .dataframe thead th {\n",
       "        text-align: right;\n",
       "    }\n",
       "</style>\n",
       "<table border=\"1\" class=\"dataframe\">\n",
       "  <thead>\n",
       "    <tr style=\"text-align: right;\">\n",
       "      <th></th>\n",
       "      <th>open</th>\n",
       "      <th>high</th>\n",
       "      <th>low</th>\n",
       "      <th>close</th>\n",
       "      <th>volume</th>\n",
       "    </tr>\n",
       "    <tr>\n",
       "      <th>timestamp</th>\n",
       "      <th></th>\n",
       "      <th></th>\n",
       "      <th></th>\n",
       "      <th></th>\n",
       "      <th></th>\n",
       "    </tr>\n",
       "  </thead>\n",
       "  <tbody>\n",
       "    <tr>\n",
       "      <th>2022-05-27 00:00:00+00:00</th>\n",
       "      <td>29156.0</td>\n",
       "      <td>29350.0</td>\n",
       "      <td>28826.0</td>\n",
       "      <td>28913.0</td>\n",
       "      <td>167271080.0</td>\n",
       "    </tr>\n",
       "    <tr>\n",
       "      <th>2022-05-27 02:00:00+00:00</th>\n",
       "      <td>28914.0</td>\n",
       "      <td>29122.0</td>\n",
       "      <td>28788.0</td>\n",
       "      <td>28975.0</td>\n",
       "      <td>72984561.0</td>\n",
       "    </tr>\n",
       "    <tr>\n",
       "      <th>2022-05-27 04:00:00+00:00</th>\n",
       "      <td>28975.0</td>\n",
       "      <td>29071.0</td>\n",
       "      <td>28588.5</td>\n",
       "      <td>28755.0</td>\n",
       "      <td>104665117.0</td>\n",
       "    </tr>\n",
       "    <tr>\n",
       "      <th>2022-05-27 06:00:00+00:00</th>\n",
       "      <td>28754.5</td>\n",
       "      <td>29166.5</td>\n",
       "      <td>28566.0</td>\n",
       "      <td>28939.0</td>\n",
       "      <td>198011442.0</td>\n",
       "    </tr>\n",
       "    <tr>\n",
       "      <th>2022-05-27 08:00:00+00:00</th>\n",
       "      <td>28939.0</td>\n",
       "      <td>29100.0</td>\n",
       "      <td>28730.0</td>\n",
       "      <td>28997.5</td>\n",
       "      <td>129402780.0</td>\n",
       "    </tr>\n",
       "    <tr>\n",
       "      <th>...</th>\n",
       "      <td>...</td>\n",
       "      <td>...</td>\n",
       "      <td>...</td>\n",
       "      <td>...</td>\n",
       "      <td>...</td>\n",
       "    </tr>\n",
       "    <tr>\n",
       "      <th>2022-06-25 14:00:00+00:00</th>\n",
       "      <td>21139.5</td>\n",
       "      <td>21200.0</td>\n",
       "      <td>20872.0</td>\n",
       "      <td>20939.5</td>\n",
       "      <td>66100077.0</td>\n",
       "    </tr>\n",
       "    <tr>\n",
       "      <th>2022-06-25 16:00:00+00:00</th>\n",
       "      <td>20940.0</td>\n",
       "      <td>21136.5</td>\n",
       "      <td>20889.0</td>\n",
       "      <td>21070.0</td>\n",
       "      <td>40241141.0</td>\n",
       "    </tr>\n",
       "    <tr>\n",
       "      <th>2022-06-25 18:00:00+00:00</th>\n",
       "      <td>21070.0</td>\n",
       "      <td>21234.0</td>\n",
       "      <td>21014.0</td>\n",
       "      <td>21185.0</td>\n",
       "      <td>34720290.0</td>\n",
       "    </tr>\n",
       "    <tr>\n",
       "      <th>2022-06-25 20:00:00+00:00</th>\n",
       "      <td>21184.5</td>\n",
       "      <td>21514.0</td>\n",
       "      <td>21125.5</td>\n",
       "      <td>21499.0</td>\n",
       "      <td>61120807.0</td>\n",
       "    </tr>\n",
       "    <tr>\n",
       "      <th>2022-06-25 22:00:00+00:00</th>\n",
       "      <td>21498.5</td>\n",
       "      <td>21577.0</td>\n",
       "      <td>21358.5</td>\n",
       "      <td>21471.0</td>\n",
       "      <td>49345087.0</td>\n",
       "    </tr>\n",
       "  </tbody>\n",
       "</table>\n",
       "<p>360 rows × 5 columns</p>\n",
       "</div>"
      ],
      "text/plain": [
       "                              open     high      low    close       volume\n",
       "timestamp                                                                 \n",
       "2022-05-27 00:00:00+00:00  29156.0  29350.0  28826.0  28913.0  167271080.0\n",
       "2022-05-27 02:00:00+00:00  28914.0  29122.0  28788.0  28975.0   72984561.0\n",
       "2022-05-27 04:00:00+00:00  28975.0  29071.0  28588.5  28755.0  104665117.0\n",
       "2022-05-27 06:00:00+00:00  28754.5  29166.5  28566.0  28939.0  198011442.0\n",
       "2022-05-27 08:00:00+00:00  28939.0  29100.0  28730.0  28997.5  129402780.0\n",
       "...                            ...      ...      ...      ...          ...\n",
       "2022-06-25 14:00:00+00:00  21139.5  21200.0  20872.0  20939.5   66100077.0\n",
       "2022-06-25 16:00:00+00:00  20940.0  21136.5  20889.0  21070.0   40241141.0\n",
       "2022-06-25 18:00:00+00:00  21070.0  21234.0  21014.0  21185.0   34720290.0\n",
       "2022-06-25 20:00:00+00:00  21184.5  21514.0  21125.5  21499.0   61120807.0\n",
       "2022-06-25 22:00:00+00:00  21498.5  21577.0  21358.5  21471.0   49345087.0\n",
       "\n",
       "[360 rows x 5 columns]"
      ]
     },
     "execution_count": 7,
     "metadata": {},
     "output_type": "execute_result"
    }
   ],
   "source": [
    "ohlcv_df"
   ]
  },
  {
   "cell_type": "code",
   "execution_count": 8,
   "metadata": {},
   "outputs": [
    {
     "data": {
      "image/png": "[encoded data removed]",
      "text/plain": [
       "<Figure size 1035x414 with 4 Axes>"
      ]
     },
     "metadata": {
      "needs_background": "light"
     },
     "output_type": "display_data"
    }
   ],
   "source": [
    "\n",
    "mpf.plot(ohlcv_df, type='line', volume=True, figratio=(16,8))\n",
    "\n",
    "\n",
    "\n"
   ]
  },
  {
   "cell_type": "code",
   "execution_count": 9,
   "metadata": {},
   "outputs": [],
   "source": [
    "class Agent:\n",
    "    def __init__(self):\n",
    "            self.K = 1.6                            # パラメターKを設定する。\n",
    "            self.detect_long = False\n",
    "            self.detect_short = False\n",
    "\n",
    "    def on_tick(self, time_ms, action, price, size):\n",
    "        if self.detect_long:\n",
    "            self.detect_long = False\n",
    "            print(rbot.PrintTime(time_ms), \"Long\", price)\n",
    "        \n",
    "        if self.detect_short:\n",
    "            self.detect_short = False\n",
    "            print(rbot.PrintTime(time_ms), \"short\", price)\n",
    "\n",
    "\n",
    "    def on_clock(self, time_ms, session):\n",
    "        ohlcv_array = session.ohlcv(60*60*2, 6)     # 最新足０番目　＋　５本の足を取得。 最新は６番目。\n",
    "        ohlcv_df = array_to_df(ohlcv_array)         # ndarrayをDataFrameへ変換\n",
    "\n",
    "        if len(ohlcv_df.index) < 6:                 # データが過去６本分そろっていない場合はリターン\n",
    "            return \n",
    "\n",
    "        ohlcv_df[\"range\"] = ohlcv_df[\"high\"] - ohlcv_df[\"low\"]      # レンジを計算\n",
    "\n",
    "        ohlcv_latest = ohlcv_df[-2:-1]     # 最新足１本\n",
    "        ohlcv_last_5 = ohlcv_df[:-2]       # 過去５本足\n",
    "\n",
    "        range_width = ohlcv_last_5[\"range\"].mean()      #　過去５本足のレンジの平均値\n",
    "\n",
    "        # Long/Short判定\n",
    "        self.detect_short = range_width * self.K < ohlcv_latest[\"high\"][0] - ohlcv_latest[\"open\"][0]\n",
    "        self.detect_long  = range_width * self.K < ohlcv_latest[\"open\"][0] - ohlcv_latest[\"low\"][0]\n",
    "\n",
    "    \n",
    "    def on_event(self, result):\n",
    "        print(\"event\", result.status)\n"
   ]
  },
  {
   "cell_type": "code",
   "execution_count": 10,
   "metadata": {},
   "outputs": [],
   "source": [
    "agent = Agent()"
   ]
  },
  {
   "cell_type": "code",
   "execution_count": 11,
   "metadata": {},
   "outputs": [
    {
     "name": "stdout",
     "output_type": "stream",
     "text": [
      "call back tick by 7200[sec]\n",
      "call back by all log events\n",
      "2022-05-27-17:00:00.000 Long 28677.5\n",
      "2022-05-27-18:00:00.000 Long 28330.5\n",
      "2022-05-28-15:00:02.000 short 28914.0\n",
      "2022-05-28-16:00:02.000 short 28943.0\n",
      "2022-05-29-14:00:00.000 short 29300.0\n",
      "2022-05-30-02:00:00.000 short 29736.0\n",
      "2022-05-30-06:00:00.000 short 30424.0\n",
      "2022-05-31-00:00:01.000 short 31705.5\n",
      "2022-05-31-16:00:00.000 Long 32027.5\n",
      "2022-05-31-18:00:00.000 short 32097.5\n",
      "2022-06-01-18:00:01.000 Long 30133.5\n",
      "2022-06-01-20:00:00.000 Long 30072.5\n",
      "2022-06-02-16:00:00.000 Long 30173.0\n",
      "2022-06-03-14:00:00.000 Long 29679.5\n",
      "2022-06-04-18:00:03.000 short 29677.0\n",
      "2022-06-05-18:00:00.000 short 29985.5\n",
      "2022-06-06-04:00:00.000 short 31220.0\n",
      "2022-06-07-04:00:00.000 Long 29519.5\n",
      "2022-06-07-18:00:00.000 short 29912.0\n",
      "2022-06-07-22:00:00.000 short 31384.0\n",
      "2022-06-10-04:00:00.000 Long 30078.5\n",
      "2022-06-10-16:00:00.000 Long 29421.0\n",
      "2022-06-11-12:00:00.000 Long 28691.0\n",
      "2022-06-11-14:00:02.000 Long 28731.0\n",
      "2022-06-12-06:00:00.000 Long 27221.0\n",
      "2022-06-12-18:00:00.000 short 28076.0\n",
      "2022-06-13-04:00:00.000 Long 25457.5\n",
      "2022-06-14-04:00:00.000 Long 22077.0\n",
      "2022-06-18-10:00:01.000 Long 19120.5\n",
      "2022-06-19-00:00:00.000 short 18941.5\n",
      "2022-06-19-12:00:00.000 short 19648.0\n",
      "2022-06-19-14:00:00.000 short 19153.0\n",
      "2022-06-23-22:00:02.000 short 20660.0\n",
      "2022-06-25-10:00:04.000 short 21409.5\n"
     ]
    }
   ],
   "source": [
    "bb.run(agent, 60*60*2)"
   ]
  },
  {
   "cell_type": "code",
   "execution_count": 12,
   "metadata": {},
   "outputs": [],
   "source": [
    "tr = bb.transactions"
   ]
  },
  {
   "cell_type": "code",
   "execution_count": 13,
   "metadata": {},
   "outputs": [],
   "source": [
    "import pandas as pd"
   ]
  },
  {
   "cell_type": "code",
   "execution_count": 14,
   "metadata": {},
   "outputs": [],
   "source": [
    "for item in tr:\n",
    "    print(item)"
   ]
  },
  {
   "cell_type": "code",
   "execution_count": 15,
   "metadata": {},
   "outputs": [],
   "source": [
    "timestamp = []\n",
    "order_id = []\n",
    "order_sub_id = []\n",
    "order_type = []\n",
    "post_only = []\n",
    "create_time = []\n",
    "status = []\n",
    "open_price = []\n",
    "close_price = []\n",
    "size = []\n",
    "volume = []\n",
    "profit = []\n",
    "fee = []\n",
    "total_profit = []\n",
    "message = []\n",
    "\n",
    "for item in tr:\n",
    "    timestamp.append(item.timestamp)\n",
    "    order_id.append(item.order_id)\n",
    "    order_sub_id.append(item.order_sub_id)\n",
    "    order_type.append(item.order_type)\n",
    "    post_only.append(item.post_only)\n",
    "    create_time.append(item.create_time)\n",
    "    status.append(item.status)\n",
    "    open_price.append(item.open_price)\n",
    "    close_price.append(item.close_price)\n",
    "    size.append(item.size)\n",
    "    volume.append(item.volume)\n",
    "    profit.append(item.profit)\n",
    "    fee.append(item.fee)\n",
    "    total_profit.append(item.total_profit)\n",
    "    message.append(item.message)\n",
    "\n",
    "\n",
    "\n"
   ]
  },
  {
   "cell_type": "code",
   "execution_count": 16,
   "metadata": {},
   "outputs": [],
   "source": [
    "df = pd.DataFrame(\n",
    "data = {\"timestamp\": timestamp, \"order_id\": order_id, \"sub_id\": order_sub_id, \n",
    "\"order_type\": order_type, \"post_only\": post_only, \"create_time\": create_time,\n",
    "\"status\":  status, \"open_price\": open_price, \"close_price\": close_price, \n",
    "\"size\": size, \"volume\": volume, \"profit\": profit, \"fee\": fee,\n",
    "\"total_profit\":total_profit, \"message\": message},\n",
    "columns = [\"timestamp\", \"order_id\", \"sub_id\", \"order_type\", \"post_only\",\n",
    "\"create_time\", \"status\", \"open_price\", \"close_price\",\"size\", \"volume\", \n",
    "\"profit\", \"fee\",\"total_profit\", \"message\"]\n",
    ")\n",
    "df[\"timestamp\"] = pd.to_datetime((df[\"timestamp\"]), utc=True, unit='ms')\n",
    "df[\"create_time\"] = pd.to_datetime((df[\"create_time\"]), utc=True, unit='ms')\n"
   ]
  },
  {
   "cell_type": "code",
   "execution_count": 17,
   "metadata": {},
   "outputs": [
    {
     "data": {
      "text/html": [
       "<div>\n",
       "<style scoped>\n",
       "    .dataframe tbody tr th:only-of-type {\n",
       "        vertical-align: middle;\n",
       "    }\n",
       "\n",
       "    .dataframe tbody tr th {\n",
       "        vertical-align: top;\n",
       "    }\n",
       "\n",
       "    .dataframe thead th {\n",
       "        text-align: right;\n",
       "    }\n",
       "</style>\n",
       "<table border=\"1\" class=\"dataframe\">\n",
       "  <thead>\n",
       "    <tr style=\"text-align: right;\">\n",
       "      <th></th>\n",
       "      <th>timestamp</th>\n",
       "      <th>order_id</th>\n",
       "      <th>sub_id</th>\n",
       "      <th>order_type</th>\n",
       "      <th>post_only</th>\n",
       "      <th>create_time</th>\n",
       "      <th>status</th>\n",
       "      <th>open_price</th>\n",
       "      <th>close_price</th>\n",
       "      <th>size</th>\n",
       "      <th>volume</th>\n",
       "      <th>profit</th>\n",
       "      <th>fee</th>\n",
       "      <th>total_profit</th>\n",
       "      <th>message</th>\n",
       "    </tr>\n",
       "  </thead>\n",
       "  <tbody>\n",
       "  </tbody>\n",
       "</table>\n",
       "</div>"
      ],
      "text/plain": [
       "Empty DataFrame\n",
       "Columns: [timestamp, order_id, sub_id, order_type, post_only, create_time, status, open_price, close_price, size, volume, profit, fee, total_profit, message]\n",
       "Index: []"
      ]
     },
     "execution_count": 17,
     "metadata": {},
     "output_type": "execute_result"
    }
   ],
   "source": [
    "df"
   ]
  },
  {
   "cell_type": "code",
   "execution_count": 19,
   "metadata": {},
   "outputs": [
    {
     "ename": "NameError",
     "evalue": "name 'global_ohlcv' is not defined",
     "output_type": "error",
     "traceback": [
      "\u001b[0;31m---------------------------------------------------------------------------\u001b[0m",
      "\u001b[0;31mNameError\u001b[0m                                 Traceback (most recent call last)",
      "\u001b[0;32m/var/folders/5r/xmxmz7gj2cjcb7d65tgwvrt40000gn/T/ipykernel_83665/3456855993.py\u001b[0m in \u001b[0;36m<module>\u001b[0;34m\u001b[0m\n\u001b[0;32m----> 1\u001b[0;31m \u001b[0mglobal_ohlcv\u001b[0m\u001b[0;34m\u001b[0m\u001b[0;34m\u001b[0m\u001b[0m\n\u001b[0m",
      "\u001b[0;31mNameError\u001b[0m: name 'global_ohlcv' is not defined"
     ]
    }
   ],
   "source": [
    "global_ohlcv"
   ]
  },
  {
   "cell_type": "code",
   "execution_count": 43,
   "metadata": {},
   "outputs": [],
   "source": [
    "#index = range(len(agent.ohlcv))\n",
    "ohlcv_df = pd.DataFrame(agent.ohlcv, columns=[\"timestamp\", \"open\", \"high\", \"low\", \"close\", \"vol\"]) #index=index))\n",
    "ohlcv_df['timestamp'] = pd.to_datetime((ohlcv_df[\"timestamp\"]), utc=True, unit='ms')\n",
    "#ohlcv_df = df.sort_values(\"timestamp\", ascending=False)\n",
    "\n"
   ]
  },
  {
   "cell_type": "code",
   "execution_count": 40,
   "metadata": {},
   "outputs": [
    {
     "data": {
      "text/html": [
       "<div>\n",
       "<style scoped>\n",
       "    .dataframe tbody tr th:only-of-type {\n",
       "        vertical-align: middle;\n",
       "    }\n",
       "\n",
       "    .dataframe tbody tr th {\n",
       "        vertical-align: top;\n",
       "    }\n",
       "\n",
       "    .dataframe thead th {\n",
       "        text-align: right;\n",
       "    }\n",
       "</style>\n",
       "<table border=\"1\" class=\"dataframe\">\n",
       "  <thead>\n",
       "    <tr style=\"text-align: right;\">\n",
       "      <th></th>\n",
       "      <th>timestamp</th>\n",
       "      <th>open</th>\n",
       "      <th>high</th>\n",
       "      <th>low</th>\n",
       "      <th>close</th>\n",
       "      <th>vol</th>\n",
       "    </tr>\n",
       "  </thead>\n",
       "  <tbody>\n",
       "    <tr>\n",
       "      <th>0</th>\n",
       "      <td>2022-06-23 23:58:00+00:00</td>\n",
       "      <td>21096.5</td>\n",
       "      <td>21096.5</td>\n",
       "      <td>21073.0</td>\n",
       "      <td>21073.0</td>\n",
       "      <td>578182.0</td>\n",
       "    </tr>\n",
       "    <tr>\n",
       "      <th>1</th>\n",
       "      <td>2022-06-23 23:57:00+00:00</td>\n",
       "      <td>21075.0</td>\n",
       "      <td>21100.0</td>\n",
       "      <td>21075.0</td>\n",
       "      <td>21097.0</td>\n",
       "      <td>361443.0</td>\n",
       "    </tr>\n",
       "    <tr>\n",
       "      <th>2</th>\n",
       "      <td>2022-06-23 23:56:00+00:00</td>\n",
       "      <td>21077.5</td>\n",
       "      <td>21080.0</td>\n",
       "      <td>21075.0</td>\n",
       "      <td>21075.0</td>\n",
       "      <td>179245.0</td>\n",
       "    </tr>\n",
       "    <tr>\n",
       "      <th>3</th>\n",
       "      <td>2022-06-23 23:55:00+00:00</td>\n",
       "      <td>21069.0</td>\n",
       "      <td>21080.5</td>\n",
       "      <td>21069.0</td>\n",
       "      <td>21077.0</td>\n",
       "      <td>158544.0</td>\n",
       "    </tr>\n",
       "    <tr>\n",
       "      <th>4</th>\n",
       "      <td>2022-06-23 23:54:00+00:00</td>\n",
       "      <td>21070.5</td>\n",
       "      <td>21079.0</td>\n",
       "      <td>21068.5</td>\n",
       "      <td>21069.0</td>\n",
       "      <td>316112.0</td>\n",
       "    </tr>\n",
       "    <tr>\n",
       "      <th>...</th>\n",
       "      <td>...</td>\n",
       "      <td>...</td>\n",
       "      <td>...</td>\n",
       "      <td>...</td>\n",
       "      <td>...</td>\n",
       "      <td>...</td>\n",
       "    </tr>\n",
       "    <tr>\n",
       "      <th>95</th>\n",
       "      <td>2022-06-23 22:23:00+00:00</td>\n",
       "      <td>20818.5</td>\n",
       "      <td>20861.0</td>\n",
       "      <td>20815.0</td>\n",
       "      <td>20850.5</td>\n",
       "      <td>906002.0</td>\n",
       "    </tr>\n",
       "    <tr>\n",
       "      <th>96</th>\n",
       "      <td>2022-06-23 22:22:00+00:00</td>\n",
       "      <td>20800.5</td>\n",
       "      <td>20831.5</td>\n",
       "      <td>20800.5</td>\n",
       "      <td>20818.0</td>\n",
       "      <td>778014.0</td>\n",
       "    </tr>\n",
       "    <tr>\n",
       "      <th>97</th>\n",
       "      <td>2022-06-23 22:21:00+00:00</td>\n",
       "      <td>20797.0</td>\n",
       "      <td>20804.5</td>\n",
       "      <td>20790.0</td>\n",
       "      <td>20797.0</td>\n",
       "      <td>533457.0</td>\n",
       "    </tr>\n",
       "    <tr>\n",
       "      <th>98</th>\n",
       "      <td>2022-06-23 22:20:00+00:00</td>\n",
       "      <td>20815.0</td>\n",
       "      <td>20817.0</td>\n",
       "      <td>20790.5</td>\n",
       "      <td>20793.5</td>\n",
       "      <td>1912237.0</td>\n",
       "    </tr>\n",
       "    <tr>\n",
       "      <th>99</th>\n",
       "      <td>2022-06-23 22:19:00+00:00</td>\n",
       "      <td>20831.5</td>\n",
       "      <td>20838.0</td>\n",
       "      <td>20802.5</td>\n",
       "      <td>20814.5</td>\n",
       "      <td>1122307.0</td>\n",
       "    </tr>\n",
       "  </tbody>\n",
       "</table>\n",
       "<p>100 rows × 6 columns</p>\n",
       "</div>"
      ],
      "text/plain": [
       "                   timestamp     open     high      low    close        vol\n",
       "0  2022-06-23 23:58:00+00:00  21096.5  21096.5  21073.0  21073.0   578182.0\n",
       "1  2022-06-23 23:57:00+00:00  21075.0  21100.0  21075.0  21097.0   361443.0\n",
       "2  2022-06-23 23:56:00+00:00  21077.5  21080.0  21075.0  21075.0   179245.0\n",
       "3  2022-06-23 23:55:00+00:00  21069.0  21080.5  21069.0  21077.0   158544.0\n",
       "4  2022-06-23 23:54:00+00:00  21070.5  21079.0  21068.5  21069.0   316112.0\n",
       "..                       ...      ...      ...      ...      ...        ...\n",
       "95 2022-06-23 22:23:00+00:00  20818.5  20861.0  20815.0  20850.5   906002.0\n",
       "96 2022-06-23 22:22:00+00:00  20800.5  20831.5  20800.5  20818.0   778014.0\n",
       "97 2022-06-23 22:21:00+00:00  20797.0  20804.5  20790.0  20797.0   533457.0\n",
       "98 2022-06-23 22:20:00+00:00  20815.0  20817.0  20790.5  20793.5  1912237.0\n",
       "99 2022-06-23 22:19:00+00:00  20831.5  20838.0  20802.5  20814.5  1122307.0\n",
       "\n",
       "[100 rows x 6 columns]"
      ]
     },
     "execution_count": 40,
     "metadata": {},
     "output_type": "execute_result"
    }
   ],
   "source": [
    "ohlcv_df"
   ]
  },
  {
   "cell_type": "code",
   "execution_count": 28,
   "metadata": {},
   "outputs": [
    {
     "data": {
      "text/plain": [
       "0     28680000.0\n",
       "1     28620000.0\n",
       "2     28560000.0\n",
       "3     28500000.0\n",
       "4     28440000.0\n",
       "         ...    \n",
       "95    22980000.0\n",
       "96    22920000.0\n",
       "97    22860000.0\n",
       "98    22800000.0\n",
       "99    22740000.0\n",
       "Name: timestamp, Length: 100, dtype: float64"
      ]
     },
     "execution_count": 28,
     "metadata": {},
     "output_type": "execute_result"
    }
   ],
   "source": [
    "ohlcv_df[\"timestamp\"]%1_000_00000"
   ]
  },
  {
   "cell_type": "code",
   "execution_count": null,
   "metadata": {},
   "outputs": [],
   "source": []
  }
 ],
 "metadata": {
  "kernelspec": {
   "display_name": "Python 3.9.10 64-bit",
   "language": "python",
   "name": "python3"
  },
  "language_info": {
   "codemirror_mode": {
    "name": "ipython",
    "version": 3
   },
   "file_extension": ".py",
   "mimetype": "text/x-python",
   "name": "python",
   "nbconvert_exporter": "python",
   "pygments_lexer": "ipython3",
   "version": "3.9.10"
  },
  "orig_nbformat": 4,
  "vscode": {
   "interpreter": {
    "hash": "aee8b7b246df8f9039afb4144a1f6fd8d2ca17a180786b69acc140d282b71a49"
   }
  }
 },
 "nbformat": 4,
 "nbformat_minor": 2
}
