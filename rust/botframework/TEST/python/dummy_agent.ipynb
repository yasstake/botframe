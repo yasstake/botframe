{
 "cells": [
  {
   "cell_type": "code",
   "execution_count": 1,
   "metadata": {},
   "outputs": [],
   "source": [
    "import pandas as pd\n",
    "import mplfinance as mpf"
   ]
  },
  {
   "cell_type": "code",
   "execution_count": 2,
   "metadata": {},
   "outputs": [],
   "source": [
    "import rbot"
   ]
  },
  {
   "cell_type": "code",
   "execution_count": 3,
   "metadata": {},
   "outputs": [],
   "source": [
    "bb = rbot.DummyBb()\n",
    "bb.log_load(10)\n"
   ]
  },
  {
   "cell_type": "code",
   "execution_count": 4,
   "metadata": {},
   "outputs": [],
   "source": [
    "def array_to_df(array):\n",
    "    ohlcv_df = pd.DataFrame(array, columns=[\"timestamp\", \"open\", \"high\", \"low\", \"close\", \"volume\"]) \n",
    "    ohlcv_df['timestamp'] = pd.to_datetime((ohlcv_df[\"timestamp\"]), utc=True, unit='ms')\n",
    "    ohlcv_df = ohlcv_df.set_index('timestamp')\n",
    "\n",
    "    return ohlcv_df\n",
    "    "
   ]
  },
  {
   "cell_type": "code",
   "execution_count": 5,
   "metadata": {},
   "outputs": [],
   "source": [
    "ohlcv = bb.ohlcv(0, bb.log_end_ms, 60*60 * 2)\n",
    "\n",
    "ohlcv_df = array_to_df(ohlcv)\n",
    "\n",
    "\n",
    "\n"
   ]
  },
  {
   "cell_type": "code",
   "execution_count": 6,
   "metadata": {},
   "outputs": [
    {
     "data": {
      "text/plain": [
       "'2022-06-26-23:59:56.000'"
      ]
     },
     "execution_count": 6,
     "metadata": {},
     "output_type": "execute_result"
    }
   ],
   "source": [
    "rbot.PrintTime(bb.log_end_ms)"
   ]
  },
  {
   "cell_type": "code",
   "execution_count": 7,
   "metadata": {},
   "outputs": [
    {
     "data": {
      "text/html": [
       "<div>\n",
       "<style scoped>\n",
       "    .dataframe tbody tr th:only-of-type {\n",
       "        vertical-align: middle;\n",
       "    }\n",
       "\n",
       "    .dataframe tbody tr th {\n",
       "        vertical-align: top;\n",
       "    }\n",
       "\n",
       "    .dataframe thead th {\n",
       "        text-align: right;\n",
       "    }\n",
       "</style>\n",
       "<table border=\"1\" class=\"dataframe\">\n",
       "  <thead>\n",
       "    <tr style=\"text-align: right;\">\n",
       "      <th></th>\n",
       "      <th>open</th>\n",
       "      <th>high</th>\n",
       "      <th>low</th>\n",
       "      <th>close</th>\n",
       "      <th>volume</th>\n",
       "    </tr>\n",
       "    <tr>\n",
       "      <th>timestamp</th>\n",
       "      <th></th>\n",
       "      <th></th>\n",
       "      <th></th>\n",
       "      <th></th>\n",
       "      <th></th>\n",
       "    </tr>\n",
       "  </thead>\n",
       "  <tbody>\n",
       "    <tr>\n",
       "      <th>2022-06-17 00:00:00+00:00</th>\n",
       "      <td>20355.0</td>\n",
       "      <td>20897.5</td>\n",
       "      <td>20196.0</td>\n",
       "      <td>20841.0</td>\n",
       "      <td>174619351.0</td>\n",
       "    </tr>\n",
       "    <tr>\n",
       "      <th>2022-06-17 02:00:00+00:00</th>\n",
       "      <td>20844.5</td>\n",
       "      <td>21018.0</td>\n",
       "      <td>20286.0</td>\n",
       "      <td>20326.5</td>\n",
       "      <td>112540724.0</td>\n",
       "    </tr>\n",
       "    <tr>\n",
       "      <th>2022-06-17 04:00:00+00:00</th>\n",
       "      <td>20327.0</td>\n",
       "      <td>20948.5</td>\n",
       "      <td>20271.0</td>\n",
       "      <td>20767.0</td>\n",
       "      <td>90076688.0</td>\n",
       "    </tr>\n",
       "    <tr>\n",
       "      <th>2022-06-17 06:00:00+00:00</th>\n",
       "      <td>20765.5</td>\n",
       "      <td>21239.5</td>\n",
       "      <td>20563.0</td>\n",
       "      <td>21050.5</td>\n",
       "      <td>134518293.0</td>\n",
       "    </tr>\n",
       "    <tr>\n",
       "      <th>2022-06-17 08:00:00+00:00</th>\n",
       "      <td>21050.5</td>\n",
       "      <td>21320.0</td>\n",
       "      <td>20832.0</td>\n",
       "      <td>20935.5</td>\n",
       "      <td>101060664.0</td>\n",
       "    </tr>\n",
       "    <tr>\n",
       "      <th>...</th>\n",
       "      <td>...</td>\n",
       "      <td>...</td>\n",
       "      <td>...</td>\n",
       "      <td>...</td>\n",
       "      <td>...</td>\n",
       "    </tr>\n",
       "    <tr>\n",
       "      <th>2022-06-26 14:00:00+00:00</th>\n",
       "      <td>21385.0</td>\n",
       "      <td>21484.5</td>\n",
       "      <td>21158.5</td>\n",
       "      <td>21305.5</td>\n",
       "      <td>78722828.0</td>\n",
       "    </tr>\n",
       "    <tr>\n",
       "      <th>2022-06-26 16:00:00+00:00</th>\n",
       "      <td>21305.5</td>\n",
       "      <td>21423.0</td>\n",
       "      <td>21109.0</td>\n",
       "      <td>21235.0</td>\n",
       "      <td>62274912.0</td>\n",
       "    </tr>\n",
       "    <tr>\n",
       "      <th>2022-06-26 18:00:00+00:00</th>\n",
       "      <td>21235.0</td>\n",
       "      <td>21290.0</td>\n",
       "      <td>21092.5</td>\n",
       "      <td>21266.0</td>\n",
       "      <td>40854907.0</td>\n",
       "    </tr>\n",
       "    <tr>\n",
       "      <th>2022-06-26 20:00:00+00:00</th>\n",
       "      <td>21266.0</td>\n",
       "      <td>21425.0</td>\n",
       "      <td>21212.0</td>\n",
       "      <td>21364.5</td>\n",
       "      <td>41370503.0</td>\n",
       "    </tr>\n",
       "    <tr>\n",
       "      <th>2022-06-26 22:00:00+00:00</th>\n",
       "      <td>21364.5</td>\n",
       "      <td>21384.5</td>\n",
       "      <td>20937.0</td>\n",
       "      <td>21022.5</td>\n",
       "      <td>142470902.0</td>\n",
       "    </tr>\n",
       "  </tbody>\n",
       "</table>\n",
       "<p>120 rows × 5 columns</p>\n",
       "</div>"
      ],
      "text/plain": [
       "                              open     high      low    close       volume\n",
       "timestamp                                                                 \n",
       "2022-06-17 00:00:00+00:00  20355.0  20897.5  20196.0  20841.0  174619351.0\n",
       "2022-06-17 02:00:00+00:00  20844.5  21018.0  20286.0  20326.5  112540724.0\n",
       "2022-06-17 04:00:00+00:00  20327.0  20948.5  20271.0  20767.0   90076688.0\n",
       "2022-06-17 06:00:00+00:00  20765.5  21239.5  20563.0  21050.5  134518293.0\n",
       "2022-06-17 08:00:00+00:00  21050.5  21320.0  20832.0  20935.5  101060664.0\n",
       "...                            ...      ...      ...      ...          ...\n",
       "2022-06-26 14:00:00+00:00  21385.0  21484.5  21158.5  21305.5   78722828.0\n",
       "2022-06-26 16:00:00+00:00  21305.5  21423.0  21109.0  21235.0   62274912.0\n",
       "2022-06-26 18:00:00+00:00  21235.0  21290.0  21092.5  21266.0   40854907.0\n",
       "2022-06-26 20:00:00+00:00  21266.0  21425.0  21212.0  21364.5   41370503.0\n",
       "2022-06-26 22:00:00+00:00  21364.5  21384.5  20937.0  21022.5  142470902.0\n",
       "\n",
       "[120 rows x 5 columns]"
      ]
     },
     "execution_count": 7,
     "metadata": {},
     "output_type": "execute_result"
    }
   ],
   "source": [
    "ohlcv_df"
   ]
  },
  {
   "cell_type": "code",
   "execution_count": 8,
   "metadata": {},
   "outputs": [
    {
     "data": {
      "image/png": "[encoded data removed]",
      "text/plain": [
       "<Figure size 828x414 with 4 Axes>"
      ]
     },
     "metadata": {
      "needs_background": "light"
     },
     "output_type": "display_data"
    }
   ],
   "source": [
    "\n",
    "mpf.plot(ohlcv_df, type='line', volume=True, figratio=(16,8))\n",
    "\n",
    "\n",
    "\n"
   ]
  },
  {
   "cell_type": "code",
   "execution_count": 9,
   "metadata": {},
   "outputs": [],
   "source": [
    "class Agent:\n",
    "    def __init__(self):\n",
    "            self.K = 1.6                            # パラメターKを設定する。\n",
    "            self.detect_long = False\n",
    "            self.detect_short = False\n",
    "            self.doten_size = 0\n",
    "\n",
    "    def on_tick(self, time_ms, action, price, size):\n",
    "        if self.detect_long:\n",
    "            self.detect_long = False\n",
    "            print(rbot.PrintTime(time_ms) + \"Long\")\n",
    "            #return rbot.Order(\"Buy\", price, 10, 600, \"Open Long\")\n",
    "\n",
    "        \n",
    "        if self.detect_short:\n",
    "            self.detect_short = False\n",
    "            print(rbot.PrintTime(time_ms) + \"short\")\n",
    "            #return rbot.Order(\"Sell\", price, 10, 600, \"OpenShort\")\n",
    "\n",
    "\n",
    "    def on_clock(self, time_ms, session):\n",
    "        ohlcv_array = session.ohlcv(60*60*2, 6)     # 最新足０番目　＋　５本の足を取得。 最新は６番目。\n",
    "        ohlcv_df = array_to_df(ohlcv_array)         # ndarrayをDataFrameへ変換\n",
    "\n",
    "        if len(ohlcv_df.index) < 6:                 # データが過去６本分そろっていない場合はリターン\n",
    "            return \n",
    "\n",
    "        print(PrintTime(time_ms) + \" ontick\")\n",
    "\n",
    "        ohlcv_df[\"range\"] = ohlcv_df[\"high\"] - ohlcv_df[\"low\"]      # レンジを計算\n",
    "\n",
    "        ohlcv_latest = ohlcv_df[-2:-1]     # 最新足１本\n",
    "        ohlcv_last_5 = ohlcv_df[:-2]       # 過去５本足\n",
    "\n",
    "        range_width = ohlcv_last_5[\"range\"].mean()      #　過去５本足のレンジの平均値\n",
    "\n",
    "        # Long/Short判定\n",
    "        self.detect_short = range_width * self.K < ohlcv_latest[\"high\"][0] - ohlcv_latest[\"open\"][0]\n",
    "        if self.detect_short:\n",
    "            if 0 < session.long_pos_size:\n",
    "                self.doten_size = session.long_pos_size * 2\n",
    "\n",
    "\n",
    "        self.detect_long  = range_width * self.K < ohlcv_latest[\"open\"][0] - ohlcv_latest[\"low\"][0]\n",
    "        if self.detect_long:\n",
    "            if 0 < session.short_pos_size:\n",
    "                self.doten_size = session.short_pos_size * 2\n",
    "\n",
    "\n",
    "    \n",
    "    def on_update(self, result):\n",
    "        print(\"event\", result.status)\n"
   ]
  },
  {
   "cell_type": "code",
   "execution_count": 10,
   "metadata": {},
   "outputs": [],
   "source": [
    "agent = Agent()"
   ]
  },
  {
   "cell_type": "code",
   "execution_count": null,
   "metadata": {},
   "outputs": [],
   "source": [
    "bb.run(agent, 60*60*2)"
   ]
  },
  {
   "cell_type": "code",
   "execution_count": null,
   "metadata": {},
   "outputs": [],
   "source": [
    "tr = bb.transactions"
   ]
  },
  {
   "cell_type": "code",
   "execution_count": null,
   "metadata": {},
   "outputs": [],
   "source": [
    "import pandas as pd"
   ]
  },
  {
   "cell_type": "code",
   "execution_count": null,
   "metadata": {},
   "outputs": [],
   "source": [
    "for item in tr:\n",
    "    print(item)"
   ]
  },
  {
   "cell_type": "code",
   "execution_count": null,
   "metadata": {},
   "outputs": [],
   "source": [
    "timestamp = []\n",
    "order_id = []\n",
    "order_sub_id = []\n",
    "order_type = []\n",
    "post_only = []\n",
    "create_time = []\n",
    "status = []\n",
    "open_price = []\n",
    "close_price = []\n",
    "size = []\n",
    "volume = []\n",
    "profit = []\n",
    "fee = []\n",
    "total_profit = []\n",
    "message = []\n",
    "\n",
    "for item in tr:\n",
    "    timestamp.append(item.timestamp)\n",
    "    order_id.append(item.order_id)\n",
    "    order_sub_id.append(item.order_sub_id)\n",
    "    order_type.append(item.order_type)\n",
    "    post_only.append(item.post_only)\n",
    "    create_time.append(item.create_time)\n",
    "    status.append(item.status)\n",
    "    open_price.append(item.open_price)\n",
    "    close_price.append(item.close_price)\n",
    "    size.append(item.size)\n",
    "    volume.append(item.volume)\n",
    "    profit.append(item.profit)\n",
    "    fee.append(item.fee)\n",
    "    total_profit.append(item.total_profit)\n",
    "    message.append(item.message)\n",
    "\n",
    "\n",
    "\n"
   ]
  },
  {
   "cell_type": "code",
   "execution_count": null,
   "metadata": {},
   "outputs": [],
   "source": [
    "df = pd.DataFrame(\n",
    "data = {\"timestamp\": timestamp, \"order_id\": order_id, \"sub_id\": order_sub_id, \n",
    "\"order_type\": order_type, \"post_only\": post_only, \"create_time\": create_time,\n",
    "\"status\":  status, \"open_price\": open_price, \"close_price\": close_price, \n",
    "\"size\": size, \"volume\": volume, \"profit\": profit, \"fee\": fee,\n",
    "\"total_profit\":total_profit, \"message\": message},\n",
    "columns = [\"timestamp\", \"order_id\", \"sub_id\", \"order_type\", \"post_only\",\n",
    "\"create_time\", \"status\", \"open_price\", \"close_price\",\"size\", \"volume\", \n",
    "\"profit\", \"fee\",\"total_profit\", \"message\"]\n",
    ")\n",
    "df[\"timestamp\"] = pd.to_datetime((df[\"timestamp\"]), utc=True, unit='ms')\n",
    "df[\"create_time\"] = pd.to_datetime((df[\"create_time\"]), utc=True, unit='ms')\n"
   ]
  },
  {
   "cell_type": "code",
   "execution_count": null,
   "metadata": {},
   "outputs": [],
   "source": [
    "df"
   ]
  },
  {
   "cell_type": "code",
   "execution_count": null,
   "metadata": {},
   "outputs": [],
   "source": [
    "global_ohlcv"
   ]
  },
  {
   "cell_type": "code",
   "execution_count": null,
   "metadata": {},
   "outputs": [],
   "source": [
    "#index = range(len(agent.ohlcv))\n",
    "ohlcv_df = pd.DataFrame(agent.ohlcv, columns=[\"timestamp\", \"open\", \"high\", \"low\", \"close\", \"vol\"]) #index=index))\n",
    "ohlcv_df['timestamp'] = pd.to_datetime((ohlcv_df[\"timestamp\"]), utc=True, unit='ms')\n",
    "#ohlcv_df = df.sort_values(\"timestamp\", ascending=False)\n",
    "\n"
   ]
  },
  {
   "cell_type": "code",
   "execution_count": null,
   "metadata": {},
   "outputs": [],
   "source": [
    "ohlcv_df"
   ]
  },
  {
   "cell_type": "code",
   "execution_count": null,
   "metadata": {},
   "outputs": [],
   "source": [
    "ohlcv_df[\"timestamp\"]%1_000_00000"
   ]
  },
  {
   "cell_type": "code",
   "execution_count": null,
   "metadata": {},
   "outputs": [],
   "source": []
  }
 ],
 "metadata": {
  "kernelspec": {
   "display_name": "Python 3.9.10 64-bit",
   "language": "python",
   "name": "python3"
  },
  "language_info": {
   "codemirror_mode": {
    "name": "ipython",
    "version": 3
   },
   "file_extension": ".py",
   "mimetype": "text/x-python",
   "name": "python",
   "nbconvert_exporter": "python",
   "pygments_lexer": "ipython3",
   "version": "3.9.10"
  },
  "orig_nbformat": 4,
  "vscode": {
   "interpreter": {
    "hash": "aee8b7b246df8f9039afb4144a1f6fd8d2ca17a180786b69acc140d282b71a49"
   }
  }
 },
 "nbformat": 4,
 "nbformat_minor": 2
}
