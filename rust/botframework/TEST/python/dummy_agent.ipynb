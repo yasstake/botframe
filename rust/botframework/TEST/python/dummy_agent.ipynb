{
 "cells": [
  {
   "cell_type": "code",
   "execution_count": 1,
   "metadata": {},
   "outputs": [],
   "source": [
    "import pandas as pd\n",
    "import mplfinance as mpf"
   ]
  },
  {
   "cell_type": "code",
   "execution_count": 2,
   "metadata": {},
   "outputs": [],
   "source": [
    "import rbot"
   ]
  },
  {
   "cell_type": "code",
   "execution_count": 14,
   "metadata": {},
   "outputs": [],
   "source": [
    "bb = rbot.DummyBb()\n",
    "bb.log_load(180)\n"
   ]
  },
  {
   "cell_type": "code",
   "execution_count": 15,
   "metadata": {},
   "outputs": [],
   "source": [
    "def array_to_df(array):\n",
    "    ohlcv_df = pd.DataFrame(array, columns=[\"timestamp\", \"open\", \"high\", \"low\", \"close\", \"volume\"]) \n",
    "    ohlcv_df['timestamp'] = pd.to_datetime((ohlcv_df[\"timestamp\"]), utc=True, unit='ms')\n",
    "    ohlcv_df = ohlcv_df.set_index('timestamp')\n",
    "\n",
    "    return ohlcv_df\n",
    "    "
   ]
  },
  {
   "cell_type": "code",
   "execution_count": 18,
   "metadata": {},
   "outputs": [],
   "source": [
    "ohlcv = bb.ohlcv(0, bb.log_end_ms, 60*60 * 2)\n",
    "\n",
    "ohlcv_df = array_to_df(ohlcv)\n",
    "\n",
    "\n",
    "\n"
   ]
  },
  {
   "cell_type": "code",
   "execution_count": 22,
   "metadata": {},
   "outputs": [
    {
     "data": {
      "text/plain": [
       "'2022-06-25-23:59:59.000'"
      ]
     },
     "execution_count": 22,
     "metadata": {},
     "output_type": "execute_result"
    }
   ],
   "source": [
    "rbot.PrintTime(bb.log_end_ms)"
   ]
  },
  {
   "cell_type": "code",
   "execution_count": 19,
   "metadata": {},
   "outputs": [
    {
     "data": {
      "text/html": [
       "<div>\n",
       "<style scoped>\n",
       "    .dataframe tbody tr th:only-of-type {\n",
       "        vertical-align: middle;\n",
       "    }\n",
       "\n",
       "    .dataframe tbody tr th {\n",
       "        vertical-align: top;\n",
       "    }\n",
       "\n",
       "    .dataframe thead th {\n",
       "        text-align: right;\n",
       "    }\n",
       "</style>\n",
       "<table border=\"1\" class=\"dataframe\">\n",
       "  <thead>\n",
       "    <tr style=\"text-align: right;\">\n",
       "      <th></th>\n",
       "      <th>open</th>\n",
       "      <th>high</th>\n",
       "      <th>low</th>\n",
       "      <th>close</th>\n",
       "      <th>volume</th>\n",
       "    </tr>\n",
       "    <tr>\n",
       "      <th>timestamp</th>\n",
       "      <th></th>\n",
       "      <th></th>\n",
       "      <th></th>\n",
       "      <th></th>\n",
       "      <th></th>\n",
       "    </tr>\n",
       "  </thead>\n",
       "  <tbody>\n",
       "    <tr>\n",
       "      <th>2022-06-25 00:00:00+00:00</th>\n",
       "      <td>21208.5</td>\n",
       "      <td>21313.0</td>\n",
       "      <td>21095.5</td>\n",
       "      <td>21303.0</td>\n",
       "      <td>72823724.0</td>\n",
       "    </tr>\n",
       "    <tr>\n",
       "      <th>2022-06-25 02:00:00+00:00</th>\n",
       "      <td>21302.5</td>\n",
       "      <td>21347.0</td>\n",
       "      <td>21132.0</td>\n",
       "      <td>21272.5</td>\n",
       "      <td>38370431.0</td>\n",
       "    </tr>\n",
       "    <tr>\n",
       "      <th>2022-06-25 04:00:00+00:00</th>\n",
       "      <td>21273.0</td>\n",
       "      <td>21297.0</td>\n",
       "      <td>21179.0</td>\n",
       "      <td>21192.0</td>\n",
       "      <td>23523043.0</td>\n",
       "    </tr>\n",
       "    <tr>\n",
       "      <th>2022-06-25 06:00:00+00:00</th>\n",
       "      <td>21192.5</td>\n",
       "      <td>21600.0</td>\n",
       "      <td>21153.5</td>\n",
       "      <td>21487.5</td>\n",
       "      <td>105725663.0</td>\n",
       "    </tr>\n",
       "    <tr>\n",
       "      <th>2022-06-25 08:00:00+00:00</th>\n",
       "      <td>21487.0</td>\n",
       "      <td>21529.0</td>\n",
       "      <td>21336.5</td>\n",
       "      <td>21409.0</td>\n",
       "      <td>44442180.0</td>\n",
       "    </tr>\n",
       "    <tr>\n",
       "      <th>2022-06-25 10:00:00+00:00</th>\n",
       "      <td>21409.5</td>\n",
       "      <td>21458.5</td>\n",
       "      <td>21289.5</td>\n",
       "      <td>21310.0</td>\n",
       "      <td>25670925.0</td>\n",
       "    </tr>\n",
       "    <tr>\n",
       "      <th>2022-06-25 12:00:00+00:00</th>\n",
       "      <td>21310.0</td>\n",
       "      <td>21347.5</td>\n",
       "      <td>21016.0</td>\n",
       "      <td>21138.5</td>\n",
       "      <td>96936055.0</td>\n",
       "    </tr>\n",
       "    <tr>\n",
       "      <th>2022-06-25 14:00:00+00:00</th>\n",
       "      <td>21139.5</td>\n",
       "      <td>21200.0</td>\n",
       "      <td>20872.0</td>\n",
       "      <td>20939.5</td>\n",
       "      <td>66100077.0</td>\n",
       "    </tr>\n",
       "    <tr>\n",
       "      <th>2022-06-25 16:00:00+00:00</th>\n",
       "      <td>20940.0</td>\n",
       "      <td>21136.5</td>\n",
       "      <td>20889.0</td>\n",
       "      <td>21070.0</td>\n",
       "      <td>40241141.0</td>\n",
       "    </tr>\n",
       "    <tr>\n",
       "      <th>2022-06-25 18:00:00+00:00</th>\n",
       "      <td>21070.0</td>\n",
       "      <td>21234.0</td>\n",
       "      <td>21014.0</td>\n",
       "      <td>21185.0</td>\n",
       "      <td>34720290.0</td>\n",
       "    </tr>\n",
       "    <tr>\n",
       "      <th>2022-06-25 20:00:00+00:00</th>\n",
       "      <td>21184.5</td>\n",
       "      <td>21514.0</td>\n",
       "      <td>21125.5</td>\n",
       "      <td>21499.0</td>\n",
       "      <td>61120807.0</td>\n",
       "    </tr>\n",
       "    <tr>\n",
       "      <th>2022-06-25 22:00:00+00:00</th>\n",
       "      <td>21498.5</td>\n",
       "      <td>21577.0</td>\n",
       "      <td>21358.5</td>\n",
       "      <td>21471.0</td>\n",
       "      <td>49345087.0</td>\n",
       "    </tr>\n",
       "  </tbody>\n",
       "</table>\n",
       "</div>"
      ],
      "text/plain": [
       "                              open     high      low    close       volume\n",
       "timestamp                                                                 \n",
       "2022-06-25 00:00:00+00:00  21208.5  21313.0  21095.5  21303.0   72823724.0\n",
       "2022-06-25 02:00:00+00:00  21302.5  21347.0  21132.0  21272.5   38370431.0\n",
       "2022-06-25 04:00:00+00:00  21273.0  21297.0  21179.0  21192.0   23523043.0\n",
       "2022-06-25 06:00:00+00:00  21192.5  21600.0  21153.5  21487.5  105725663.0\n",
       "2022-06-25 08:00:00+00:00  21487.0  21529.0  21336.5  21409.0   44442180.0\n",
       "2022-06-25 10:00:00+00:00  21409.5  21458.5  21289.5  21310.0   25670925.0\n",
       "2022-06-25 12:00:00+00:00  21310.0  21347.5  21016.0  21138.5   96936055.0\n",
       "2022-06-25 14:00:00+00:00  21139.5  21200.0  20872.0  20939.5   66100077.0\n",
       "2022-06-25 16:00:00+00:00  20940.0  21136.5  20889.0  21070.0   40241141.0\n",
       "2022-06-25 18:00:00+00:00  21070.0  21234.0  21014.0  21185.0   34720290.0\n",
       "2022-06-25 20:00:00+00:00  21184.5  21514.0  21125.5  21499.0   61120807.0\n",
       "2022-06-25 22:00:00+00:00  21498.5  21577.0  21358.5  21471.0   49345087.0"
      ]
     },
     "execution_count": 19,
     "metadata": {},
     "output_type": "execute_result"
    }
   ],
   "source": [
    "ohlcv_df"
   ]
  },
  {
   "cell_type": "code",
   "execution_count": 7,
   "metadata": {},
   "outputs": [
    {
     "data": {
      "image/png": "[encoded data removed]",
      "text/plain": [
       "<Figure size 828x414 with 4 Axes>"
      ]
     },
     "metadata": {
      "needs_background": "light"
     },
     "output_type": "display_data"
    }
   ],
   "source": [
    "\n",
    "mpf.plot(ohlcv_df, type='candle', volume=True, figratio=(16,8))\n",
    "\n",
    "\n",
    "\n"
   ]
  },
  {
   "cell_type": "code",
   "execution_count": 16,
   "metadata": {},
   "outputs": [],
   "source": [
    "class Agent:\n",
    "    def __init__(self):\n",
    "            self.K = 1.6                          # パラメターKを1.6とする。\n",
    "            self.detect_long = False\n",
    "            self.detect_short = False\n",
    "\n",
    "    def on_event(self, time_ms, action, price, size):\n",
    "        if self.detect_long:\n",
    "            self.detect_long = False\n",
    "            print(\"Long\")\n",
    "        \n",
    "        if self.detect_short:\n",
    "            self.detect_short = False\n",
    "            print(\"short\")\n",
    "\n",
    "\n",
    "    def on_tick(self, time_ms, session):\n",
    "        # print(\"----tick-----\", rbot.PrintTime(time_ms), \"\\n\")\n",
    "        ohlcv_array = session.ohlcv(60*60*2, 6)     # 最新足０番目　＋　５本の足を取得。 最新は６番目。\n",
    "        ohlcv_df = array_to_df(ohlcv_array)            # ndarrayをDataFrameへ変換\n",
    "\n",
    "        if len(ohlcv_df.index) < 6:     #まだデータが準備できていない場合はリターン\n",
    "            return \n",
    "\n",
    "        ohlcv_df[\"range\"] = ohlcv_df[\"high\"] - ohlcv_df[\"low\"]      # レンジを計算\n",
    "\n",
    "        # print(ohlcv_df)\n",
    "\n",
    "        ohlcv_latest = ohlcv_df[:-1]       # 最新\n",
    "        ohlcv_last_5 = ohlcv_df[:-2]       # 過去５本足\n",
    "\n",
    "        range_width = ohlcv_last_5[\"range\"].mean()\n",
    "\n",
    "        self.detect_short = range_width * self.K < ohlcv_latest[\"high\"].mean() - ohlcv_latest[\"open\"].mean()\n",
    "        self.detect_long  = range_width * self.K < ohlcv_latest[\"open\"].mean() - ohlcv_latest[\"low\"].mean()\n",
    "\n",
    "    \n",
    "    def on_update(self, result):\n",
    "        print(\"update\", result.status)\n"
   ]
  },
  {
   "cell_type": "code",
   "execution_count": 17,
   "metadata": {},
   "outputs": [],
   "source": [
    "agent = Agent()"
   ]
  },
  {
   "cell_type": "code",
   "execution_count": 18,
   "metadata": {},
   "outputs": [],
   "source": [
    "bb.debug_loop_count = -1"
   ]
  },
  {
   "cell_type": "code",
   "execution_count": 19,
   "metadata": {},
   "outputs": [
    {
     "name": "stdout",
     "output_type": "stream",
     "text": [
      "call back tick by 7200[sec]\n",
      "call back by update\n",
      "call back by all log events\n",
      "short\n",
      "Long\n",
      "Long\n"
     ]
    }
   ],
   "source": [
    "bb.run(agent, 60*60*2)"
   ]
  },
  {
   "cell_type": "code",
   "execution_count": 49,
   "metadata": {},
   "outputs": [],
   "source": [
    "tr = bb.transactions"
   ]
  },
  {
   "cell_type": "code",
   "execution_count": 50,
   "metadata": {},
   "outputs": [],
   "source": [
    "import pandas as pd"
   ]
  },
  {
   "cell_type": "code",
   "execution_count": 51,
   "metadata": {},
   "outputs": [],
   "source": [
    "for item in tr:\n",
    "    print(item)"
   ]
  },
  {
   "cell_type": "code",
   "execution_count": 35,
   "metadata": {},
   "outputs": [],
   "source": [
    "timestamp = []\n",
    "order_id = []\n",
    "order_sub_id = []\n",
    "order_type = []\n",
    "post_only = []\n",
    "create_time = []\n",
    "status = []\n",
    "open_price = []\n",
    "close_price = []\n",
    "size = []\n",
    "volume = []\n",
    "profit = []\n",
    "fee = []\n",
    "total_profit = []\n",
    "message = []\n",
    "\n",
    "for item in tr:\n",
    "    timestamp.append(item.timestamp)\n",
    "    order_id.append(item.order_id)\n",
    "    order_sub_id.append(item.order_sub_id)\n",
    "    order_type.append(item.order_type)\n",
    "    post_only.append(item.post_only)\n",
    "    create_time.append(item.create_time)\n",
    "    status.append(item.status)\n",
    "    open_price.append(item.open_price)\n",
    "    close_price.append(item.close_price)\n",
    "    size.append(item.size)\n",
    "    volume.append(item.volume)\n",
    "    profit.append(item.profit)\n",
    "    fee.append(item.fee)\n",
    "    total_profit.append(item.total_profit)\n",
    "    message.append(item.message)\n",
    "\n",
    "\n",
    "\n"
   ]
  },
  {
   "cell_type": "code",
   "execution_count": 36,
   "metadata": {},
   "outputs": [],
   "source": [
    "df = pd.DataFrame(\n",
    "data = {\"timestamp\": timestamp, \"order_id\": order_id, \"sub_id\": order_sub_id, \n",
    "\"order_type\": order_type, \"post_only\": post_only, \"create_time\": create_time,\n",
    "\"status\":  status, \"open_price\": open_price, \"close_price\": close_price, \n",
    "\"size\": size, \"volume\": volume, \"profit\": profit, \"fee\": fee,\n",
    "\"total_profit\":total_profit, \"message\": message},\n",
    "columns = [\"timestamp\", \"order_id\", \"sub_id\", \"order_type\", \"post_only\",\n",
    "\"create_time\", \"status\", \"open_price\", \"close_price\",\"size\", \"volume\", \n",
    "\"profit\", \"fee\",\"total_profit\", \"message\"]\n",
    ")\n",
    "df[\"timestamp\"] = pd.to_datetime((df[\"timestamp\"]), utc=True, unit='ms')\n",
    "df[\"create_time\"] = pd.to_datetime((df[\"create_time\"]), utc=True, unit='ms')\n"
   ]
  },
  {
   "cell_type": "code",
   "execution_count": 37,
   "metadata": {},
   "outputs": [
    {
     "data": {
      "text/html": [
       "<div>\n",
       "<style scoped>\n",
       "    .dataframe tbody tr th:only-of-type {\n",
       "        vertical-align: middle;\n",
       "    }\n",
       "\n",
       "    .dataframe tbody tr th {\n",
       "        vertical-align: top;\n",
       "    }\n",
       "\n",
       "    .dataframe thead th {\n",
       "        text-align: right;\n",
       "    }\n",
       "</style>\n",
       "<table border=\"1\" class=\"dataframe\">\n",
       "  <thead>\n",
       "    <tr style=\"text-align: right;\">\n",
       "      <th></th>\n",
       "      <th>timestamp</th>\n",
       "      <th>order_id</th>\n",
       "      <th>sub_id</th>\n",
       "      <th>order_type</th>\n",
       "      <th>post_only</th>\n",
       "      <th>create_time</th>\n",
       "      <th>status</th>\n",
       "      <th>open_price</th>\n",
       "      <th>close_price</th>\n",
       "      <th>size</th>\n",
       "      <th>volume</th>\n",
       "      <th>profit</th>\n",
       "      <th>fee</th>\n",
       "      <th>total_profit</th>\n",
       "      <th>message</th>\n",
       "    </tr>\n",
       "  </thead>\n",
       "  <tbody>\n",
       "  </tbody>\n",
       "</table>\n",
       "</div>"
      ],
      "text/plain": [
       "Empty DataFrame\n",
       "Columns: [timestamp, order_id, sub_id, order_type, post_only, create_time, status, open_price, close_price, size, volume, profit, fee, total_profit, message]\n",
       "Index: []"
      ]
     },
     "execution_count": 37,
     "metadata": {},
     "output_type": "execute_result"
    }
   ],
   "source": [
    "df"
   ]
  },
  {
   "cell_type": "code",
   "execution_count": 19,
   "metadata": {},
   "outputs": [
    {
     "ename": "NameError",
     "evalue": "name 'global_ohlcv' is not defined",
     "output_type": "error",
     "traceback": [
      "\u001b[0;31m---------------------------------------------------------------------------\u001b[0m",
      "\u001b[0;31mNameError\u001b[0m                                 Traceback (most recent call last)",
      "\u001b[0;32m/var/folders/5r/xmxmz7gj2cjcb7d65tgwvrt40000gn/T/ipykernel_83665/3456855993.py\u001b[0m in \u001b[0;36m<module>\u001b[0;34m\u001b[0m\n\u001b[0;32m----> 1\u001b[0;31m \u001b[0mglobal_ohlcv\u001b[0m\u001b[0;34m\u001b[0m\u001b[0;34m\u001b[0m\u001b[0m\n\u001b[0m",
      "\u001b[0;31mNameError\u001b[0m: name 'global_ohlcv' is not defined"
     ]
    }
   ],
   "source": [
    "global_ohlcv"
   ]
  },
  {
   "cell_type": "code",
   "execution_count": 43,
   "metadata": {},
   "outputs": [],
   "source": [
    "#index = range(len(agent.ohlcv))\n",
    "ohlcv_df = pd.DataFrame(agent.ohlcv, columns=[\"timestamp\", \"open\", \"high\", \"low\", \"close\", \"vol\"]) #index=index))\n",
    "ohlcv_df['timestamp'] = pd.to_datetime((ohlcv_df[\"timestamp\"]), utc=True, unit='ms')\n",
    "#ohlcv_df = df.sort_values(\"timestamp\", ascending=False)\n",
    "\n"
   ]
  },
  {
   "cell_type": "code",
   "execution_count": 40,
   "metadata": {},
   "outputs": [
    {
     "data": {
      "text/html": [
       "<div>\n",
       "<style scoped>\n",
       "    .dataframe tbody tr th:only-of-type {\n",
       "        vertical-align: middle;\n",
       "    }\n",
       "\n",
       "    .dataframe tbody tr th {\n",
       "        vertical-align: top;\n",
       "    }\n",
       "\n",
       "    .dataframe thead th {\n",
       "        text-align: right;\n",
       "    }\n",
       "</style>\n",
       "<table border=\"1\" class=\"dataframe\">\n",
       "  <thead>\n",
       "    <tr style=\"text-align: right;\">\n",
       "      <th></th>\n",
       "      <th>timestamp</th>\n",
       "      <th>open</th>\n",
       "      <th>high</th>\n",
       "      <th>low</th>\n",
       "      <th>close</th>\n",
       "      <th>vol</th>\n",
       "    </tr>\n",
       "  </thead>\n",
       "  <tbody>\n",
       "    <tr>\n",
       "      <th>0</th>\n",
       "      <td>2022-06-23 23:58:00+00:00</td>\n",
       "      <td>21096.5</td>\n",
       "      <td>21096.5</td>\n",
       "      <td>21073.0</td>\n",
       "      <td>21073.0</td>\n",
       "      <td>578182.0</td>\n",
       "    </tr>\n",
       "    <tr>\n",
       "      <th>1</th>\n",
       "      <td>2022-06-23 23:57:00+00:00</td>\n",
       "      <td>21075.0</td>\n",
       "      <td>21100.0</td>\n",
       "      <td>21075.0</td>\n",
       "      <td>21097.0</td>\n",
       "      <td>361443.0</td>\n",
       "    </tr>\n",
       "    <tr>\n",
       "      <th>2</th>\n",
       "      <td>2022-06-23 23:56:00+00:00</td>\n",
       "      <td>21077.5</td>\n",
       "      <td>21080.0</td>\n",
       "      <td>21075.0</td>\n",
       "      <td>21075.0</td>\n",
       "      <td>179245.0</td>\n",
       "    </tr>\n",
       "    <tr>\n",
       "      <th>3</th>\n",
       "      <td>2022-06-23 23:55:00+00:00</td>\n",
       "      <td>21069.0</td>\n",
       "      <td>21080.5</td>\n",
       "      <td>21069.0</td>\n",
       "      <td>21077.0</td>\n",
       "      <td>158544.0</td>\n",
       "    </tr>\n",
       "    <tr>\n",
       "      <th>4</th>\n",
       "      <td>2022-06-23 23:54:00+00:00</td>\n",
       "      <td>21070.5</td>\n",
       "      <td>21079.0</td>\n",
       "      <td>21068.5</td>\n",
       "      <td>21069.0</td>\n",
       "      <td>316112.0</td>\n",
       "    </tr>\n",
       "    <tr>\n",
       "      <th>...</th>\n",
       "      <td>...</td>\n",
       "      <td>...</td>\n",
       "      <td>...</td>\n",
       "      <td>...</td>\n",
       "      <td>...</td>\n",
       "      <td>...</td>\n",
       "    </tr>\n",
       "    <tr>\n",
       "      <th>95</th>\n",
       "      <td>2022-06-23 22:23:00+00:00</td>\n",
       "      <td>20818.5</td>\n",
       "      <td>20861.0</td>\n",
       "      <td>20815.0</td>\n",
       "      <td>20850.5</td>\n",
       "      <td>906002.0</td>\n",
       "    </tr>\n",
       "    <tr>\n",
       "      <th>96</th>\n",
       "      <td>2022-06-23 22:22:00+00:00</td>\n",
       "      <td>20800.5</td>\n",
       "      <td>20831.5</td>\n",
       "      <td>20800.5</td>\n",
       "      <td>20818.0</td>\n",
       "      <td>778014.0</td>\n",
       "    </tr>\n",
       "    <tr>\n",
       "      <th>97</th>\n",
       "      <td>2022-06-23 22:21:00+00:00</td>\n",
       "      <td>20797.0</td>\n",
       "      <td>20804.5</td>\n",
       "      <td>20790.0</td>\n",
       "      <td>20797.0</td>\n",
       "      <td>533457.0</td>\n",
       "    </tr>\n",
       "    <tr>\n",
       "      <th>98</th>\n",
       "      <td>2022-06-23 22:20:00+00:00</td>\n",
       "      <td>20815.0</td>\n",
       "      <td>20817.0</td>\n",
       "      <td>20790.5</td>\n",
       "      <td>20793.5</td>\n",
       "      <td>1912237.0</td>\n",
       "    </tr>\n",
       "    <tr>\n",
       "      <th>99</th>\n",
       "      <td>2022-06-23 22:19:00+00:00</td>\n",
       "      <td>20831.5</td>\n",
       "      <td>20838.0</td>\n",
       "      <td>20802.5</td>\n",
       "      <td>20814.5</td>\n",
       "      <td>1122307.0</td>\n",
       "    </tr>\n",
       "  </tbody>\n",
       "</table>\n",
       "<p>100 rows × 6 columns</p>\n",
       "</div>"
      ],
      "text/plain": [
       "                   timestamp     open     high      low    close        vol\n",
       "0  2022-06-23 23:58:00+00:00  21096.5  21096.5  21073.0  21073.0   578182.0\n",
       "1  2022-06-23 23:57:00+00:00  21075.0  21100.0  21075.0  21097.0   361443.0\n",
       "2  2022-06-23 23:56:00+00:00  21077.5  21080.0  21075.0  21075.0   179245.0\n",
       "3  2022-06-23 23:55:00+00:00  21069.0  21080.5  21069.0  21077.0   158544.0\n",
       "4  2022-06-23 23:54:00+00:00  21070.5  21079.0  21068.5  21069.0   316112.0\n",
       "..                       ...      ...      ...      ...      ...        ...\n",
       "95 2022-06-23 22:23:00+00:00  20818.5  20861.0  20815.0  20850.5   906002.0\n",
       "96 2022-06-23 22:22:00+00:00  20800.5  20831.5  20800.5  20818.0   778014.0\n",
       "97 2022-06-23 22:21:00+00:00  20797.0  20804.5  20790.0  20797.0   533457.0\n",
       "98 2022-06-23 22:20:00+00:00  20815.0  20817.0  20790.5  20793.5  1912237.0\n",
       "99 2022-06-23 22:19:00+00:00  20831.5  20838.0  20802.5  20814.5  1122307.0\n",
       "\n",
       "[100 rows x 6 columns]"
      ]
     },
     "execution_count": 40,
     "metadata": {},
     "output_type": "execute_result"
    }
   ],
   "source": [
    "ohlcv_df"
   ]
  },
  {
   "cell_type": "code",
   "execution_count": 28,
   "metadata": {},
   "outputs": [
    {
     "data": {
      "text/plain": [
       "0     28680000.0\n",
       "1     28620000.0\n",
       "2     28560000.0\n",
       "3     28500000.0\n",
       "4     28440000.0\n",
       "         ...    \n",
       "95    22980000.0\n",
       "96    22920000.0\n",
       "97    22860000.0\n",
       "98    22800000.0\n",
       "99    22740000.0\n",
       "Name: timestamp, Length: 100, dtype: float64"
      ]
     },
     "execution_count": 28,
     "metadata": {},
     "output_type": "execute_result"
    }
   ],
   "source": [
    "ohlcv_df[\"timestamp\"]%1_000_00000"
   ]
  },
  {
   "cell_type": "code",
   "execution_count": null,
   "metadata": {},
   "outputs": [],
   "source": []
  }
 ],
 "metadata": {
  "kernelspec": {
   "display_name": "Python 3.9.13 64-bit",
   "language": "python",
   "name": "python3"
  },
  "language_info": {
   "codemirror_mode": {
    "name": "ipython",
    "version": 3
   },
   "file_extension": ".py",
   "mimetype": "text/x-python",
   "name": "python",
   "nbconvert_exporter": "python",
   "pygments_lexer": "ipython3",
   "version": "3.9.13"
  },
  "orig_nbformat": 4,
  "vscode": {
   "interpreter": {
    "hash": "b0fa6594d8f4cbf19f97940f81e996739fb7646882a419484c72d19e05852a7e"
   }
  }
 },
 "nbformat": 4,
 "nbformat_minor": 2
}
