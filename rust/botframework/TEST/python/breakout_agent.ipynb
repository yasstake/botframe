{
 "cells": [
  {
   "cell_type": "markdown",
   "metadata": {},
   "source": [
    "# ByBit インバースデリバティブのバックテストプログラム\n"
   ]
  },
  {
   "cell_type": "code",
   "execution_count": null,
   "metadata": {},
   "outputs": [],
   "source": [
    "#　次の絵をnotebookへ埋め込むためにのコードです。\n",
    "# ローカルにoutline.png がないとセルが空白になりますが、配布時に絵が配置できるようにこうしています。\n",
    "# rbot配布パッケージにoutline.jpgが含まれます。\n",
    "from PIL import Image\n",
    "filename = 'outline.png'\n",
    "im = Image.open(filename)\n",
    "im"
   ]
  },
  {
   "cell_type": "markdown",
   "metadata": {},
   "source": [
    "## プログラム概要\n",
    "Bybitの約定ログを使ってバックテストを行うプログラムです。１日あたり数十万レコードあるログを処理するためかなり重い処理になりますが、大きな注文を行うと約定しないということもバックテスト可能になっています（板情報がないため、このリリースではMakerのみ実装です）\n",
    "\n",
    "## 処理の流れ\n",
    "「rbot全体アーキテクチャ」の図のとおり以下の処理を行います。\n",
    "\n",
    "1) rbot.DummyBb#data_load関数でByBitの `https://public.bybit.com/trading/BTCUSD/`からデータをダウンロードします。直近のn日のデータをダウンロードできるように指定できます。\n",
    "2) rbot.DummyBb#run関数でAgentと実行間隔(sec)を指定しバックテストを開始します。\n",
    "3) バックテスターは与えられたAgentに実装されている`on_clock`関数を探し`Session`オブジェクトを引数にして呼び出します。\n",
    "4) ユーザが記述した`on_clocok`の中でSessionで提供されるAPIを使って売買ロジックを実行します。\n",
    "   1) 最初に`Session#ohlcv`でローソク足を取得し売買判断をする（ローソク足はバックテストの最初は全部揃っていない場合があるので注意）\n",
    "   2) 次に前回の`on_clock`で出したオーダの状態を確認し、本当に売買するか決定します。たとえば、オーダーが処理中ならば止める、逆サイドのポジションがあったらドテンなど判断することができます。\n",
    "   3) オーダすることがきまればOrderオブジェクトを作り`on_clock`関数の戻り値として返します（オーダーをしない場合はなにも返さなければOK)\n",
    "5) 全ログに対しバックテストが終わるとセッション結果が戻ってくるので、分析する。\n",
    "\n"
   ]
  },
  {
   "cell_type": "markdown",
   "metadata": {},
   "source": [
    "## 環境の準備と実行にむけたステップ\n",
    "\n",
    "３のAgentは自分のロジックを作る必要がありますが、他のステップはこのnotebookをそのまま利用することが可能。\n",
    "\n",
    "0) python3/jupyter notebookのインストール（すでにある前提）\n",
    "1) 必要なライブラリのインストール\n",
    "2) DummyBbクラスの生成とデータのロード\n",
    "3) Agent(任意名）クラスの作成 (独自のロジックをつくるのはここだけ)\n",
    "4) バックテスト実行\n",
    "5) 分析\n",
    "\n",
    "以後実際に動くコードと共に順番に説明します。"
   ]
  },
  {
   "cell_type": "markdown",
   "metadata": {},
   "source": [
    "## 1. 必要なパッケージのインストールとpythonでのimport\n",
    "\n",
    "必要な以下のパッケージをコマンドラインでインストールする。\n",
    "\n",
    "* pandas      表データの管理・処理\n",
    "* mplfinance  金融データのグラフ表示\n",
    "* matplotlib  mplfinance中で使われているグラフ表示ライブラリ\n",
    "\n",
    "```\n",
    "$ pip install pandas\n",
    "$ pip install matplotlib\n",
    "$ pip install mplfinance\n",
    "```\n",
    "\n",
    "* rbot        バックテスト用のライブラリ。別途入手してインストールする\n",
    "                （事前にRustコンパイラをインストールしたあとで以下でOK）\n",
    "\n",
    "```\n",
    "$ pip install rbot-xxx-xxx.tar.gz\n",
    "```"
   ]
  },
  {
   "cell_type": "code",
   "execution_count": null,
   "metadata": {},
   "outputs": [],
   "source": [
    "#　必要ライブラリのインポート\n",
    "\n",
    "import pandas as pd\n",
    "import mplfinance as mpf\n",
    "import rbot\n"
   ]
  },
  {
   "cell_type": "markdown",
   "metadata": {},
   "source": [
    "ohlcv(&mut self, start_time_ms: i64, end_time_ms: i64, width_sec: i64) -> Py<PyArray2<f64>> {## 2.　rbot.DummyBbインスタンスの作成\n",
    "\n",
    "### DummyBb クラスとメソッドの解説\n",
    "\n",
    "| 関数名 | rbot.DummyBb() |\n",
    "|-----|-------------|\n",
    "| 役割 | バックテストクラスのコンストラクタ|\n",
    "|**引数**　| |\n",
    "|(なし)　　　| |\n",
    "|戻り値|DummyBbオブジェクト    |\n",
    "\n",
    "#\n",
    "\n",
    "| 関数名 | load_data(n_days) |\n",
    "|-----|-------------|\n",
    "| 役割 | 指定期間のデータをロードする|\n",
    "|**引数**　| |\n",
    "| n_days　　　| ダウンロードする日数。最新からの日数を指定する。|\n",
    "|**戻り値**| （なし）    |\n",
    "\n",
    "#\n",
    "\n",
    "| 関数名 | `__str__` |\n",
    "|-----|-------------|\n",
    "| 役割 | 人間のわかるフォーマットで状態を表示する。データの開始・終了時間、レコード数が表示される。時刻はms単位で表現|\n",
    "|**引数**　| |\n",
    "| (なし)　　　||\n",
    "|**戻り値**| データの開始・終了、レコード数を文字列で表現したもの |\n",
    "#\n",
    "| 関数名 | ohlcv(start_time_ms, end_time_ms, width_sec)|\n",
    "|-----|-------------|\n",
    "| 役割 | ohlcv（ローソク足データ）を作る。|\n",
    "|**引数**　| |\n",
    "|start_time_ms|ohlcv開始時刻[ms]。0を指定するとデータの最初から|\n",
    "| end_time_ms|ohlcv終了時刻[ms]。0を指定するとデータの最後まで|\n",
    "| width_sec)|ローソク足の時間幅[sec]|\n",
    "|**戻り値**| ohlcvをarray形式にしたもの。この戻り値をpandasのDataFrameへ変換するヘルパー関数 `rbot.array_to_df`が準備されている。 |\n",
    "#\n",
    "| 関数名 | run(agent, interval_sec)\n",
    "|-----|-------------|\n",
    "| 役割 | バックテストを行う。|\n",
    "|**引数**　| |\n",
    "|agent|on_tick関数を実相しているbot|\n",
    "|interval_sec|agentを呼び出す時間間隔[sec]|\n",
    "|**戻り値**| 実行結果。この戻り値をpandasのDataFrameへ変換するヘルパー関数 `rbot.result_to_df`が準備されている。 |\n",
    "#\n",
    "\n",
    "\n"
   ]
  },
  {
   "cell_type": "code",
   "execution_count": null,
   "metadata": {},
   "outputs": [],
   "source": [
    "# DummyBbオブジェクトの作成とデータロード。100日分だと１分以上かかることがあります。\n",
    "bb = rbot.DummyBb()\n",
    "bb.log_load(100)"
   ]
  },
  {
   "cell_type": "code",
   "execution_count": null,
   "metadata": {},
   "outputs": [],
   "source": [
    "#　ロード状況の確認 (__str__　メソッドの呼び出し)\n",
    "print(bb)"
   ]
  },
  {
   "cell_type": "code",
   "execution_count": null,
   "metadata": {},
   "outputs": [],
   "source": [
    "# 2時間足の作成（バックテスト自体には不要です）\n",
    "ohlcv_array = bb.ohlcv(0, 0, 60*60*2)\n",
    "ohlcv_array"
   ]
  },
  {
   "cell_type": "code",
   "execution_count": null,
   "metadata": {},
   "outputs": [],
   "source": [
    "# pandas.DataFrameへ変換し中身を確認\n",
    "# バックテスト自体には不要です。\n",
    "# 任意の幅の足が作れるので、ここだけ使って独自の分析を行っても良いと思います。\n",
    "ohlcv_df = rbot.array_to_df(ohlcv_array)\n",
    "ohlcv_df"
   ]
  },
  {
   "cell_type": "markdown",
   "metadata": {},
   "source": [
    "## 2. Agent(botのロジック。クラス名は任意)クラスの作成\n",
    "\n",
    "bot本体は`on_clock`を実装しているクラスならば名前はなんでもOKです。\n",
    "`on_clock`関数内では、受け取った`session`オブジェクトのAPIを使って売買判断をし、売買する場合に`Order`オブジェクトを作成返却するロジックを記載してください。\n",
    "\n",
    "#\n",
    "### botのクラスが実装するべき関数定義（名前・パラメータの一致が必要です）\n",
    "| 関数名 | on_clock(time_ms, session)|\n",
    "|-----|-------------|\n",
    "| 役割 | バックテスト対象のbotのロジック（ユーザがつくるところ）|\n",
    "|**引数**　| |\n",
    "|time_ms|呼び出された時刻[ms]。|\n",
    "|session|ロジックの中で使うSessionAPI用オブジェクト|\n",
    "|**戻り値**| **なし**：なにもしない場合|\n",
    "|     | **Orderオブジェクト**：botロジックの結果オーダ発行する場合|\n",
    "#\n",
    "\n",
    "## Sessionクラス\n",
    "`on_clock`でSessionオブジェクトが渡されてくるので以下のAPIを使ってbotのロジックを完成させます。\n",
    "\n",
    "### Sessionクラスプロパティ\n",
    "| プロパティ| rbot.Session#current_time|\n",
    "|-----|-------------|\n",
    "| 役割 |　バックテスト中の現在時刻を取得する。最後の約定時刻のためon_tickで送られてくる時刻とは異なる（少し早い） |\n",
    "|**戻り値**|現在時刻[ms] |\n",
    "#\n",
    "\n",
    "| プロパティ| rbot.Session#sell_edge_price|\n",
    "|-----|-------------|\n",
    "| 役割 |最後の買いオーダーから想定される、売り板の最安値（エッジ）。ギリ指を狙う場合はこの値でOrderを作る。 |\n",
    "|**戻り値**| 売り板の最安値（エッジ）[ドル]|\n",
    "#\n",
    "\n",
    "| プロパティ| rbot.Session#buy_edge_price|\n",
    "|-----|-------------|\n",
    "| 役割 |最後の売りオーダーから想定される、買い板の最高値（エッジ）。ギリ指を狙う場合はこの値でOrderを作る。 |\n",
    "|**戻り値**| 買い板の最高値（エッジ）[ドル]|\n",
    "#\n",
    "\n",
    "| プロパティ| rbot.Session#long_order_size|\n",
    "|-----|-------------|\n",
    "| 役割 | まだ処理中のLongオーダーの注文量の取得。前回のロジック実行時のオーダーがまだ処理されていないかの確認に使う。未オーダーまたは処理完了時は０となる。|\n",
    "|**戻り値**| 処理中のLongオーダーの注文量[ドル]|\n",
    "#\n",
    "\n",
    "| プロパティ| rbot.Session#short_order_size|\n",
    "|-----|-------------|\n",
    "| 役割 | まだ処理中のShortオーダーの注文量の取得。前回のロジック実行時のオーダーがまだ処理されていないかの確認に使う。未オーダーまたは処理完了時は０となる。|\n",
    "|**戻り値**| 処理中のShortオーダーの注文量[ドル]|\n",
    "#\n",
    "\n",
    "| 関数| rbot.Session#ohlcv(width_sec, count)|\n",
    "|-----|-------------|\n",
    "| 役割 | ohlcv（ローソク足）を取得する。現在時刻はSessionオブジェクトの状態を利用するので自動で更新されている。バックテストの初期（過去データが少ない）場合は、指定した本数の足が取得できない場合がある（少ない本数で帰ってくる）。|\n",
    "|**引数**　| |\n",
    "|width_sec|ローソク足の幅[sec]|\n",
    "|count|必要なローソク足の本数（現在時刻から遡ってカウント）|\n",
    "|（なし）||\n",
    "|**戻り値**| ohlcvのarray。インデックスが大きいほうが最新データ。最新データは呼ばれるタイミングによっては未確定の数値となる場合がある。２時間足に対し、１時間刻みでon_clockを呼び出した場合など最後の足には１時間分しかデータがない。|\n",
    "#\n",
    "\n",
    "\n",
    "\n",
    "## Orderクラス\n",
    "\n",
    "\n",
    "| 関数| rbot.Order(side, price, size, valid_sec, message)|\n",
    "|-----|-------------|\n",
    "| 役割 |  Orderクラスのコンストラクタ。botのロジックが売買を決めた場合、このオブジェクトを作成し`on_tick`の戻り値とする。|\n",
    "|**引数**　| |\n",
    "|side|買いの場合\"Buy\", 売りの場合\"Sell|\n",
    "| price|価格。Session.buy_edge_price, Session.sell_edge_priceを参考に入力する。本来は値によっては成り行きになるが、未実装（すべてが指値）|\n",
    "|size|注文量[ドル]|\n",
    "| valid_sec|注文有効期間[sec]|\n",
    "|message|ログに出力されるときの識別子。デバック用に自由に利用|\n",
    "|**戻り値**| Orderオブジェクト|\n",
    "#\n",
    "\n",
    "\n"
   ]
  },
  {
   "cell_type": "markdown",
   "metadata": {},
   "source": [
    "### バックテストするBotのサンプル\n",
    "\n",
    "Ukiさんの「オープニングレンジ・ブレイクアウト」を実装してみた。\n",
    "on_clickが２時間ごとに呼ばれるようにして、その中で過去５本と最新１本の６本足を使って計算している。\n",
    "かなりストレートな実装ができると思う。また本番のBotもあまり形を変えずに実装できるはず。\n",
    "\n",
    "<blockquote class=\"twitter-tweet\"><p lang=\"ja\" dir=\"ltr\">お待ちかねのロジックを公開。<br>(元祖)ドテン君はブレイクアウトだが通常のHLチャネルブレイクではない。その手法は「オープニングレンジ・ブレイクアウト」と呼ばれるものである。文章での説明は面倒なのでhohetoとの会議資料をそのまま添付する。ストラテジーに関する質問には応対できません。 <a href=\"https://t.co/LB6mdxVZZo\">pic.twitter.com/LB6mdxVZZo</a></p>&mdash; UKI (@blog_uki) <a href=\"https://twitter.com/blog_uki/status/981768546429448192?ref_src=twsrc%5Etfw\">April 5, 2018</a></blockquote> <script async src=\"https://platform.twitter.com/widgets.js\" charset=\"utf-8\"></script>\n",
    "\n",
    "![](https://pbs.twimg.com/media/DZ_xJQFUMAEOrpS?format=jpg&name=900x900)"
   ]
  },
  {
   "cell_type": "code",
   "execution_count": null,
   "metadata": {},
   "outputs": [],
   "source": [
    "class BreakOutAgent: #任意の名前でOK\n",
    "    def __init__(self, param_K=1.6):\n",
    "        self.K = param_K                           # パラメターKを設定する。\n",
    "\n",
    "    def on_clock(self, time_ms: int, session):# 指定時間毎に呼び出される（今回は２H相当時間毎）\n",
    "        ohlcv_array = session.ohlcv(60*60*2, 6)     # 最新足０番目　＋　５本の足を取得。 最新は６番目。\n",
    "        ohlcv_df = rbot.array_to_df(ohlcv_array)    # ndarrayをDataFrameへ変換\n",
    "\n",
    "        if len(ohlcv_df.index) < 6:                 # データが過去６本分そろっていない場合はなにもせずリターン\n",
    "            return \n",
    "\n",
    "        ohlcv_df[\"range\"] = ohlcv_df[\"high\"] - ohlcv_df[\"low\"]      # レンジを計算\n",
    "\n",
    "        ohlcv_latest = ohlcv_df[-2:-1]     # 最新足１本\n",
    "        ohlcv_last_5 = ohlcv_df[:-2]       # 過去５本足\n",
    "\n",
    "        range_width = ohlcv_last_5[\"range\"].mean()      #　過去５本足のレンジの平均値\n",
    "\n",
    "        # Long/Short判定\n",
    "        detect_short = range_width * self.K < ohlcv_latest[\"high\"][0] - ohlcv_latest[\"open\"][0]\n",
    "        detect_long  = range_width * self.K < ohlcv_latest[\"open\"][0] - ohlcv_latest[\"low\"][0]\n",
    "\n",
    "        #　執行方法（順報告のポジションがあったら保留。逆方向のポジションがのこっていたらドテン）\n",
    "        if detect_long: #long判定\n",
    "            if not session.long_pos_size: #　既存のlongポジションがないこと\n",
    "                if not session.short_pos_size:  # shortのポジションがない場合は通常オーダー（buy_edge_price価格で、10ドル分、600秒有効オーダー）\n",
    "                    return rbot.Order(\"Buy\", session.buy_edge_price, 10, 600, \"open long\")    \n",
    "                else:                           # ドテンオーダー（20ドル分）\n",
    "                    return rbot.Order(\"Buy\", session.buy_edge_price, 20, 600, \"DOTEN Long\")    \n",
    "            else:\n",
    "                pass\n",
    "\n",
    "        if detect_short: #short 判定\n",
    "            if not session.short_pos_size: # 既存のshortポジションがないこと\n",
    "                if not session.long_pos_size: # longのポジションがない場合は通常オーダー（sell_edge_price価格で、10ドル分、600秒有効オーダー）\n",
    "                    return rbot.Order(\"Sell\", session.sell_edge_price, 10, 600, \"open short\") \n",
    "                else:                          # ドテンオーダー（20ドル分）\n",
    "                    return rbot.Order(\"Sell\", session.sell_edge_price, 20, 600, \"DOTEN Short\") \n",
    "            else:\n",
    "                pass\n",
    "  \n"
   ]
  },
  {
   "cell_type": "markdown",
   "metadata": {},
   "source": [
    "## バックテスト実施"
   ]
  },
  {
   "cell_type": "code",
   "execution_count": null,
   "metadata": {},
   "outputs": [],
   "source": [
    "agent = BreakOutAgent()\n",
    "result = bb.run(agent, 60*60*2)\n",
    "\n",
    "result_df = rbot.result_to_df(result)\n",
    "result_df"
   ]
  },
  {
   "cell_type": "markdown",
   "metadata": {},
   "source": [
    "###　結果の確認\n"
   ]
  },
  {
   "cell_type": "markdown",
   "metadata": {},
   "source": []
  },
  {
   "cell_type": "code",
   "execution_count": null,
   "metadata": {},
   "outputs": [],
   "source": [
    "result_df[result_df[\"status\"]==\"Expire\"]"
   ]
  },
  {
   "cell_type": "code",
   "execution_count": null,
   "metadata": {},
   "outputs": [],
   "source": [
    "len(result_df[(result_df[\"order_type\"] == \"Buy\") & (result_df[\"sub_id\"] == \"0\")].index)\n",
    "#result_df[(result_df[\"order_type\"] == \"Buy\")]"
   ]
  },
  {
   "cell_type": "code",
   "execution_count": null,
   "metadata": {},
   "outputs": [],
   "source": [
    "len(result_df[(result_df[\"order_type\"] == \"Sell\") & (result_df[\"sub_id\"] == \"0\")].index)\n"
   ]
  },
  {
   "cell_type": "code",
   "execution_count": null,
   "metadata": {},
   "outputs": [],
   "source": [
    "result_df[\"sum_profit\"].max()"
   ]
  },
  {
   "cell_type": "markdown",
   "metadata": {},
   "source": [
    "### グラフ化\n",
    "\n",
    "mplfinanceを使ってグラフかする。"
   ]
  },
  {
   "cell_type": "code",
   "execution_count": null,
   "metadata": {},
   "outputs": [],
   "source": [
    "\n",
    "from matplotlib.pyplot import ylabel\n",
    "\n",
    "chart = pd.merge_asof(ohlcv_df, df, left_on=\"timestamp\", right_on=\"create_time\", direction=\"nearest\")\n",
    "\n",
    "ap2 = [\n",
    "    mpf.make_addplot(chart['sum_profit'], type='line', color='g', panel=2, ylabel=\"profit\"),\n",
    "    mpf.make_addplot(chart['sum_pos'], type='line', color='r', panel=3, ylabel=\"pos\"),    \n",
    "]\n",
    "\n",
    "mpf.plot(ohlcv_df, volume=True, type='line', addplot=ap2)"
   ]
  },
  {
   "cell_type": "code",
   "execution_count": null,
   "metadata": {},
   "outputs": [],
   "source": [
    "event = "
   ]
  }
 ],
 "metadata": {
  "kernelspec": {
   "display_name": "Python 3.9.13 64-bit",
   "language": "python",
   "name": "python3"
  },
  "language_info": {
   "codemirror_mode": {
    "name": "ipython",
    "version": 3
   },
   "file_extension": ".py",
   "mimetype": "text/x-python",
   "name": "python",
   "nbconvert_exporter": "python",
   "pygments_lexer": "ipython3",
   "version": "3.9.13"
  },
  "orig_nbformat": 4,
  "vscode": {
   "interpreter": {
    "hash": "b0fa6594d8f4cbf19f97940f81e996739fb7646882a419484c72d19e05852a7e"
   }
  }
 },
 "nbformat": 4,
 "nbformat_minor": 2
}
